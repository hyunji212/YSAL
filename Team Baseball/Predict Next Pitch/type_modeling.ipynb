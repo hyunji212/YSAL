{
 "cells": [
  {
   "cell_type": "code",
   "execution_count": 2,
   "id": "f1ff9e96",
   "metadata": {},
   "outputs": [],
   "source": [
    "import pandas as pd\n",
    "import numpy as np"
   ]
  },
  {
   "cell_type": "code",
   "execution_count": 3,
   "id": "ae7edb7d",
   "metadata": {},
   "outputs": [],
   "source": [
    "data = pd.read_csv(\"contain_prev_pitch.csv\", index_col=0)"
   ]
  },
  {
   "cell_type": "code",
   "execution_count": 4,
   "id": "c0ebf7b1",
   "metadata": {},
   "outputs": [
    {
     "data": {
      "text/html": [
       "<div>\n",
       "<style scoped>\n",
       "    .dataframe tbody tr th:only-of-type {\n",
       "        vertical-align: middle;\n",
       "    }\n",
       "\n",
       "    .dataframe tbody tr th {\n",
       "        vertical-align: top;\n",
       "    }\n",
       "\n",
       "    .dataframe thead th {\n",
       "        text-align: right;\n",
       "    }\n",
       "</style>\n",
       "<table border=\"1\" class=\"dataframe\">\n",
       "  <thead>\n",
       "    <tr style=\"text-align: right;\">\n",
       "      <th></th>\n",
       "      <th>pitch_name</th>\n",
       "      <th>pitcher_x</th>\n",
       "      <th>description</th>\n",
       "      <th>zone</th>\n",
       "      <th>stand</th>\n",
       "      <th>p_throws</th>\n",
       "      <th>plate_x</th>\n",
       "      <th>plate_z</th>\n",
       "      <th>inning</th>\n",
       "      <th>pitch_number</th>\n",
       "      <th>pitch_type_group</th>\n",
       "      <th>change</th>\n",
       "      <th>prev_pitch</th>\n",
       "    </tr>\n",
       "  </thead>\n",
       "  <tbody>\n",
       "    <tr>\n",
       "      <th>0</th>\n",
       "      <td>5</td>\n",
       "      <td>676879</td>\n",
       "      <td>83</td>\n",
       "      <td>3.0</td>\n",
       "      <td>2</td>\n",
       "      <td>1</td>\n",
       "      <td>0.71</td>\n",
       "      <td>2.94</td>\n",
       "      <td>1</td>\n",
       "      <td>1</td>\n",
       "      <td>1</td>\n",
       "      <td>False</td>\n",
       "      <td>0</td>\n",
       "    </tr>\n",
       "    <tr>\n",
       "      <th>1</th>\n",
       "      <td>3</td>\n",
       "      <td>676879</td>\n",
       "      <td>66</td>\n",
       "      <td>13.0</td>\n",
       "      <td>2</td>\n",
       "      <td>1</td>\n",
       "      <td>-1.29</td>\n",
       "      <td>0.84</td>\n",
       "      <td>1</td>\n",
       "      <td>2</td>\n",
       "      <td>1</td>\n",
       "      <td>False</td>\n",
       "      <td>5</td>\n",
       "    </tr>\n",
       "    <tr>\n",
       "      <th>2</th>\n",
       "      <td>3</td>\n",
       "      <td>676879</td>\n",
       "      <td>83</td>\n",
       "      <td>4.0</td>\n",
       "      <td>2</td>\n",
       "      <td>1</td>\n",
       "      <td>-0.40</td>\n",
       "      <td>2.27</td>\n",
       "      <td>1</td>\n",
       "      <td>3</td>\n",
       "      <td>1</td>\n",
       "      <td>False</td>\n",
       "      <td>3</td>\n",
       "    </tr>\n",
       "    <tr>\n",
       "      <th>3</th>\n",
       "      <td>1</td>\n",
       "      <td>676879</td>\n",
       "      <td>83</td>\n",
       "      <td>12.0</td>\n",
       "      <td>2</td>\n",
       "      <td>1</td>\n",
       "      <td>1.15</td>\n",
       "      <td>3.25</td>\n",
       "      <td>1</td>\n",
       "      <td>4</td>\n",
       "      <td>1</td>\n",
       "      <td>False</td>\n",
       "      <td>3</td>\n",
       "    </tr>\n",
       "    <tr>\n",
       "      <th>4</th>\n",
       "      <td>3</td>\n",
       "      <td>676879</td>\n",
       "      <td>71</td>\n",
       "      <td>14.0</td>\n",
       "      <td>2</td>\n",
       "      <td>1</td>\n",
       "      <td>0.84</td>\n",
       "      <td>2.33</td>\n",
       "      <td>1</td>\n",
       "      <td>5</td>\n",
       "      <td>1</td>\n",
       "      <td>False</td>\n",
       "      <td>1</td>\n",
       "    </tr>\n",
       "    <tr>\n",
       "      <th>...</th>\n",
       "      <td>...</td>\n",
       "      <td>...</td>\n",
       "      <td>...</td>\n",
       "      <td>...</td>\n",
       "      <td>...</td>\n",
       "      <td>...</td>\n",
       "      <td>...</td>\n",
       "      <td>...</td>\n",
       "      <td>...</td>\n",
       "      <td>...</td>\n",
       "      <td>...</td>\n",
       "      <td>...</td>\n",
       "      <td>...</td>\n",
       "    </tr>\n",
       "    <tr>\n",
       "      <th>305863</th>\n",
       "      <td>1</td>\n",
       "      <td>669203</td>\n",
       "      <td>66</td>\n",
       "      <td>14.0</td>\n",
       "      <td>1</td>\n",
       "      <td>2</td>\n",
       "      <td>1.69</td>\n",
       "      <td>1.42</td>\n",
       "      <td>3</td>\n",
       "      <td>2</td>\n",
       "      <td>4</td>\n",
       "      <td>False</td>\n",
       "      <td>2</td>\n",
       "    </tr>\n",
       "    <tr>\n",
       "      <th>305864</th>\n",
       "      <td>4</td>\n",
       "      <td>669203</td>\n",
       "      <td>83</td>\n",
       "      <td>14.0</td>\n",
       "      <td>1</td>\n",
       "      <td>2</td>\n",
       "      <td>0.09</td>\n",
       "      <td>1.36</td>\n",
       "      <td>3</td>\n",
       "      <td>3</td>\n",
       "      <td>4</td>\n",
       "      <td>False</td>\n",
       "      <td>1</td>\n",
       "    </tr>\n",
       "    <tr>\n",
       "      <th>305865</th>\n",
       "      <td>5</td>\n",
       "      <td>669203</td>\n",
       "      <td>66</td>\n",
       "      <td>12.0</td>\n",
       "      <td>1</td>\n",
       "      <td>2</td>\n",
       "      <td>2.09</td>\n",
       "      <td>2.88</td>\n",
       "      <td>3</td>\n",
       "      <td>4</td>\n",
       "      <td>4</td>\n",
       "      <td>False</td>\n",
       "      <td>4</td>\n",
       "    </tr>\n",
       "    <tr>\n",
       "      <th>305866</th>\n",
       "      <td>2</td>\n",
       "      <td>669203</td>\n",
       "      <td>66</td>\n",
       "      <td>13.0</td>\n",
       "      <td>1</td>\n",
       "      <td>2</td>\n",
       "      <td>-0.70</td>\n",
       "      <td>0.84</td>\n",
       "      <td>3</td>\n",
       "      <td>5</td>\n",
       "      <td>4</td>\n",
       "      <td>False</td>\n",
       "      <td>5</td>\n",
       "    </tr>\n",
       "    <tr>\n",
       "      <th>305867</th>\n",
       "      <td>1</td>\n",
       "      <td>669203</td>\n",
       "      <td>71</td>\n",
       "      <td>3.0</td>\n",
       "      <td>1</td>\n",
       "      <td>2</td>\n",
       "      <td>0.47</td>\n",
       "      <td>2.96</td>\n",
       "      <td>3</td>\n",
       "      <td>6</td>\n",
       "      <td>4</td>\n",
       "      <td>True</td>\n",
       "      <td>2</td>\n",
       "    </tr>\n",
       "  </tbody>\n",
       "</table>\n",
       "<p>305868 rows × 13 columns</p>\n",
       "</div>"
      ],
      "text/plain": [
       "        pitch_name  pitcher_x  description  zone  stand  p_throws  plate_x  \\\n",
       "0                5     676879           83   3.0      2         1     0.71   \n",
       "1                3     676879           66  13.0      2         1    -1.29   \n",
       "2                3     676879           83   4.0      2         1    -0.40   \n",
       "3                1     676879           83  12.0      2         1     1.15   \n",
       "4                3     676879           71  14.0      2         1     0.84   \n",
       "...            ...        ...          ...   ...    ...       ...      ...   \n",
       "305863           1     669203           66  14.0      1         2     1.69   \n",
       "305864           4     669203           83  14.0      1         2     0.09   \n",
       "305865           5     669203           66  12.0      1         2     2.09   \n",
       "305866           2     669203           66  13.0      1         2    -0.70   \n",
       "305867           1     669203           71   3.0      1         2     0.47   \n",
       "\n",
       "        plate_z  inning  pitch_number  pitch_type_group  change  prev_pitch  \n",
       "0          2.94       1             1                 1   False           0  \n",
       "1          0.84       1             2                 1   False           5  \n",
       "2          2.27       1             3                 1   False           3  \n",
       "3          3.25       1             4                 1   False           3  \n",
       "4          2.33       1             5                 1   False           1  \n",
       "...         ...     ...           ...               ...     ...         ...  \n",
       "305863     1.42       3             2                 4   False           2  \n",
       "305864     1.36       3             3                 4   False           1  \n",
       "305865     2.88       3             4                 4   False           4  \n",
       "305866     0.84       3             5                 4   False           5  \n",
       "305867     2.96       3             6                 4    True           2  \n",
       "\n",
       "[305868 rows x 13 columns]"
      ]
     },
     "execution_count": 4,
     "metadata": {},
     "output_type": "execute_result"
    }
   ],
   "source": [
    "data"
   ]
  },
  {
   "cell_type": "code",
   "execution_count": 5,
   "id": "a51d0878",
   "metadata": {},
   "outputs": [],
   "source": [
    "data.drop([\"change\"],axis=1,inplace=True)"
   ]
  },
  {
   "cell_type": "code",
   "execution_count": 8,
   "id": "5e21e662",
   "metadata": {},
   "outputs": [],
   "source": [
    "X = data.drop(\"pitch_name\", axis=1)"
   ]
  },
  {
   "cell_type": "code",
   "execution_count": 9,
   "id": "db472467",
   "metadata": {},
   "outputs": [],
   "source": [
    "y = data[\"pitch_name\"].astype(int)"
   ]
  },
  {
   "cell_type": "code",
   "execution_count": 6,
   "id": "f81669e8",
   "metadata": {},
   "outputs": [],
   "source": [
    "from sklearn.model_selection import train_test_split"
   ]
  },
  {
   "cell_type": "code",
   "execution_count": 11,
   "id": "dad01052",
   "metadata": {},
   "outputs": [],
   "source": [
    "X_train, X_test, Y_train, Y_test = train_test_split(X, y, shuffle=True, test_size=0.3, random_state=42, stratify=X[\"pitch_type_group\"])"
   ]
  },
  {
   "cell_type": "code",
   "execution_count": 12,
   "id": "d87ea5e9",
   "metadata": {},
   "outputs": [],
   "source": [
    "Y_train = Y_train-1"
   ]
  },
  {
   "cell_type": "code",
   "execution_count": 14,
   "id": "6f3ecc91",
   "metadata": {},
   "outputs": [],
   "source": [
    "x_train, x_val, y_train, y_val = train_test_split(X_train, Y_train, shuffle=True, test_size=0.3, random_state=42, stratify=X_train[\"pitch_type_group\"])"
   ]
  },
  {
   "cell_type": "code",
   "execution_count": 15,
   "id": "d5b518ce",
   "metadata": {},
   "outputs": [],
   "source": [
    "from xgboost import XGBClassifier"
   ]
  },
  {
   "cell_type": "code",
   "execution_count": 16,
   "id": "9a386410",
   "metadata": {},
   "outputs": [
    {
     "name": "stdout",
     "output_type": "stream",
     "text": [
      "[0]\tvalidation_0-mlogloss:1.57326\n"
     ]
    },
    {
     "name": "stderr",
     "output_type": "stream",
     "text": [
      "C:\\Users\\Jeong Hyunji\\anaconda3\\lib\\site-packages\\xgboost\\sklearn.py:885: UserWarning: `eval_metric` in `fit` method is deprecated for better compatibility with scikit-learn, use `eval_metric` in constructor or`set_params` instead.\n",
      "  warnings.warn(\n",
      "C:\\Users\\Jeong Hyunji\\anaconda3\\lib\\site-packages\\xgboost\\sklearn.py:885: UserWarning: `early_stopping_rounds` in `fit` method is deprecated for better compatibility with scikit-learn, use `early_stopping_rounds` in constructor or`set_params` instead.\n",
      "  warnings.warn(\n"
     ]
    },
    {
     "name": "stdout",
     "output_type": "stream",
     "text": [
      "[1]\tvalidation_0-mlogloss:1.44992\n",
      "[2]\tvalidation_0-mlogloss:1.36903\n",
      "[3]\tvalidation_0-mlogloss:1.30785\n",
      "[4]\tvalidation_0-mlogloss:1.26070\n",
      "[5]\tvalidation_0-mlogloss:1.22476\n",
      "[6]\tvalidation_0-mlogloss:1.19511\n",
      "[7]\tvalidation_0-mlogloss:1.17246\n",
      "[8]\tvalidation_0-mlogloss:1.15173\n",
      "[9]\tvalidation_0-mlogloss:1.13364\n",
      "[10]\tvalidation_0-mlogloss:1.11800\n",
      "[11]\tvalidation_0-mlogloss:1.10455\n",
      "[12]\tvalidation_0-mlogloss:1.09376\n",
      "[13]\tvalidation_0-mlogloss:1.08398\n",
      "[14]\tvalidation_0-mlogloss:1.07444\n",
      "[15]\tvalidation_0-mlogloss:1.06747\n",
      "[16]\tvalidation_0-mlogloss:1.05894\n",
      "[17]\tvalidation_0-mlogloss:1.05148\n",
      "[18]\tvalidation_0-mlogloss:1.04528\n",
      "[19]\tvalidation_0-mlogloss:1.03862\n",
      "[20]\tvalidation_0-mlogloss:1.03199\n",
      "[21]\tvalidation_0-mlogloss:1.02597\n",
      "[22]\tvalidation_0-mlogloss:1.02135\n",
      "[23]\tvalidation_0-mlogloss:1.01687\n",
      "[24]\tvalidation_0-mlogloss:1.01246\n",
      "[25]\tvalidation_0-mlogloss:1.01026\n",
      "[26]\tvalidation_0-mlogloss:1.00710\n",
      "[27]\tvalidation_0-mlogloss:1.00390\n",
      "[28]\tvalidation_0-mlogloss:1.00079\n",
      "[29]\tvalidation_0-mlogloss:0.99769\n",
      "[30]\tvalidation_0-mlogloss:0.99311\n",
      "[31]\tvalidation_0-mlogloss:0.99069\n",
      "[32]\tvalidation_0-mlogloss:0.98739\n",
      "[33]\tvalidation_0-mlogloss:0.98524\n",
      "[34]\tvalidation_0-mlogloss:0.98325\n",
      "[35]\tvalidation_0-mlogloss:0.98203\n",
      "[36]\tvalidation_0-mlogloss:0.98013\n",
      "[37]\tvalidation_0-mlogloss:0.97811\n",
      "[38]\tvalidation_0-mlogloss:0.97575\n",
      "[39]\tvalidation_0-mlogloss:0.97375\n",
      "[40]\tvalidation_0-mlogloss:0.97188\n",
      "[41]\tvalidation_0-mlogloss:0.96965\n",
      "[42]\tvalidation_0-mlogloss:0.96739\n",
      "[43]\tvalidation_0-mlogloss:0.96549\n",
      "[44]\tvalidation_0-mlogloss:0.96466\n",
      "[45]\tvalidation_0-mlogloss:0.96393\n",
      "[46]\tvalidation_0-mlogloss:0.96266\n",
      "[47]\tvalidation_0-mlogloss:0.96077\n",
      "[48]\tvalidation_0-mlogloss:0.95955\n",
      "[49]\tvalidation_0-mlogloss:0.95848\n",
      "[50]\tvalidation_0-mlogloss:0.95711\n",
      "[51]\tvalidation_0-mlogloss:0.95658\n",
      "[52]\tvalidation_0-mlogloss:0.95598\n",
      "[53]\tvalidation_0-mlogloss:0.95492\n",
      "[54]\tvalidation_0-mlogloss:0.95389\n",
      "[55]\tvalidation_0-mlogloss:0.95285\n",
      "[56]\tvalidation_0-mlogloss:0.95202\n",
      "[57]\tvalidation_0-mlogloss:0.95109\n",
      "[58]\tvalidation_0-mlogloss:0.94998\n",
      "[59]\tvalidation_0-mlogloss:0.94903\n",
      "[60]\tvalidation_0-mlogloss:0.94768\n",
      "[61]\tvalidation_0-mlogloss:0.94638\n",
      "[62]\tvalidation_0-mlogloss:0.94621\n",
      "[63]\tvalidation_0-mlogloss:0.94463\n",
      "[64]\tvalidation_0-mlogloss:0.94364\n",
      "[65]\tvalidation_0-mlogloss:0.94328\n",
      "[66]\tvalidation_0-mlogloss:0.94281\n",
      "[67]\tvalidation_0-mlogloss:0.94182\n",
      "[68]\tvalidation_0-mlogloss:0.94123\n",
      "[69]\tvalidation_0-mlogloss:0.94040\n",
      "[70]\tvalidation_0-mlogloss:0.93972\n",
      "[71]\tvalidation_0-mlogloss:0.93905\n",
      "[72]\tvalidation_0-mlogloss:0.93881\n",
      "[73]\tvalidation_0-mlogloss:0.93814\n",
      "[74]\tvalidation_0-mlogloss:0.93771\n",
      "[75]\tvalidation_0-mlogloss:0.93718\n",
      "[76]\tvalidation_0-mlogloss:0.93672\n",
      "[77]\tvalidation_0-mlogloss:0.93643\n",
      "[78]\tvalidation_0-mlogloss:0.93573\n",
      "[79]\tvalidation_0-mlogloss:0.93492\n",
      "[80]\tvalidation_0-mlogloss:0.93444\n",
      "[81]\tvalidation_0-mlogloss:0.93382\n",
      "[82]\tvalidation_0-mlogloss:0.93332\n",
      "[83]\tvalidation_0-mlogloss:0.93287\n",
      "[84]\tvalidation_0-mlogloss:0.93213\n",
      "[85]\tvalidation_0-mlogloss:0.93193\n",
      "[86]\tvalidation_0-mlogloss:0.93171\n",
      "[87]\tvalidation_0-mlogloss:0.93149\n",
      "[88]\tvalidation_0-mlogloss:0.93110\n",
      "[89]\tvalidation_0-mlogloss:0.93050\n",
      "[90]\tvalidation_0-mlogloss:0.93008\n",
      "[91]\tvalidation_0-mlogloss:0.92951\n",
      "[92]\tvalidation_0-mlogloss:0.92918\n",
      "[93]\tvalidation_0-mlogloss:0.92884\n",
      "[94]\tvalidation_0-mlogloss:0.92859\n",
      "[95]\tvalidation_0-mlogloss:0.92840\n",
      "[96]\tvalidation_0-mlogloss:0.92774\n",
      "[97]\tvalidation_0-mlogloss:0.92729\n",
      "[98]\tvalidation_0-mlogloss:0.92685\n",
      "[99]\tvalidation_0-mlogloss:0.92672\n"
     ]
    }
   ],
   "source": [
    "from xgboost import XGBClassifier\n",
    "\n",
    "# 객체 생성\n",
    "model = XGBClassifier()\n",
    "xgb_model = model.fit(x_train, y_train, early_stopping_rounds=100, \n",
    "                        eval_metric='mlogloss',eval_set=[(x_val,y_val)])"
   ]
  },
  {
   "cell_type": "code",
   "execution_count": 17,
   "id": "e4e00e6d",
   "metadata": {},
   "outputs": [],
   "source": [
    "y_pred = xgb_model.predict(X_test)"
   ]
  },
  {
   "cell_type": "code",
   "execution_count": 18,
   "id": "2a267535",
   "metadata": {},
   "outputs": [],
   "source": [
    "y_pred = y_pred + 1"
   ]
  },
  {
   "cell_type": "code",
   "execution_count": 19,
   "id": "39dd6bda",
   "metadata": {},
   "outputs": [],
   "source": [
    "original = Y_test"
   ]
  },
  {
   "cell_type": "code",
   "execution_count": 20,
   "id": "c2402979",
   "metadata": {},
   "outputs": [],
   "source": [
    "from sklearn.metrics import accuracy_score"
   ]
  },
  {
   "cell_type": "code",
   "execution_count": 21,
   "id": "4a1aa79c",
   "metadata": {},
   "outputs": [
    {
     "data": {
      "text/plain": [
       "0.6184108717211015"
      ]
     },
     "execution_count": 21,
     "metadata": {},
     "output_type": "execute_result"
    }
   ],
   "source": [
    "accuracy = accuracy_score(original, y_pred)\n",
    "accuracy"
   ]
  },
  {
   "cell_type": "code",
   "execution_count": null,
   "id": "f7bfae27",
   "metadata": {},
   "outputs": [],
   "source": []
  },
  {
   "cell_type": "code",
   "execution_count": null,
   "id": "8babcb10",
   "metadata": {},
   "outputs": [],
   "source": []
  },
  {
   "cell_type": "code",
   "execution_count": null,
   "id": "74903c73",
   "metadata": {},
   "outputs": [],
   "source": []
  },
  {
   "cell_type": "code",
   "execution_count": null,
   "id": "953fc55b",
   "metadata": {},
   "outputs": [],
   "source": []
  },
  {
   "cell_type": "code",
   "execution_count": null,
   "id": "a76777bd",
   "metadata": {},
   "outputs": [],
   "source": []
  },
  {
   "cell_type": "code",
   "execution_count": null,
   "id": "c007d301",
   "metadata": {},
   "outputs": [],
   "source": []
  },
  {
   "cell_type": "code",
   "execution_count": null,
   "id": "fba0f8a7",
   "metadata": {},
   "outputs": [],
   "source": []
  },
  {
   "cell_type": "code",
   "execution_count": null,
   "id": "b914ccb0",
   "metadata": {},
   "outputs": [],
   "source": []
  },
  {
   "cell_type": "code",
   "execution_count": null,
   "id": "f5badb0b",
   "metadata": {},
   "outputs": [],
   "source": []
  },
  {
   "cell_type": "code",
   "execution_count": null,
   "id": "fb70a143",
   "metadata": {},
   "outputs": [],
   "source": []
  },
  {
   "cell_type": "code",
   "execution_count": null,
   "id": "a0bf48f8",
   "metadata": {},
   "outputs": [],
   "source": [
    "train = train.drop(columns=[\"zone\"]).assign(y=train[\"zone\"])"
   ]
  },
  {
   "cell_type": "code",
   "execution_count": null,
   "id": "b43eb0d9",
   "metadata": {},
   "outputs": [],
   "source": [
    "dataset = train.values.reshape(train.shape)"
   ]
  },
  {
   "cell_type": "code",
   "execution_count": null,
   "id": "50133ff3",
   "metadata": {},
   "outputs": [],
   "source": [
    "X , y = list(),list()"
   ]
  },
  {
   "cell_type": "code",
   "execution_count": null,
   "id": "938d4ccb",
   "metadata": {},
   "outputs": [],
   "source": [
    "seq_len = 2"
   ]
  },
  {
   "cell_type": "code",
   "execution_count": null,
   "id": "4441939e",
   "metadata": {},
   "outputs": [],
   "source": [
    "for i, _ in enumerate(dataset):\n",
    "    idx_in = i + seq_len\n",
    "    idx_out = idx_in + steps\n",
    "    if idx_out > len(dataset):\n",
    "        break\n",
    "    seq_x = dataset[i:idx_in, :-1]\n",
    "    if single_output:\n",
    "        seq_y = dataset[idx_out - 1 : idx_out, -1]\n",
    "    else:\n",
    "        seq_y = dataset[idx_in:idx_out, -1]\n",
    "    X.append(seq_x)\n",
    "    y.append(seq_y)"
   ]
  },
  {
   "cell_type": "code",
   "execution_count": null,
   "id": "098762f0",
   "metadata": {},
   "outputs": [],
   "source": [
    "X = np.array(X)\n",
    "y = np.array(y)"
   ]
  },
  {
   "cell_type": "code",
   "execution_count": null,
   "id": "59d72a94",
   "metadata": {},
   "outputs": [],
   "source": [
    "X.shape"
   ]
  },
  {
   "cell_type": "code",
   "execution_count": null,
   "id": "8cab36d5",
   "metadata": {},
   "outputs": [],
   "source": [
    "from sklearn.model_selection import train_test_split"
   ]
  },
  {
   "cell_type": "code",
   "execution_count": null,
   "id": "7d4ba111",
   "metadata": {},
   "outputs": [],
   "source": [
    "X_train, X_val, Y_train, Y_val = train_test_split(X, y, shuffle=True, test_size=0.3, random_state=42)"
   ]
  },
  {
   "cell_type": "code",
   "execution_count": null,
   "id": "41c8171b",
   "metadata": {},
   "outputs": [],
   "source": [
    "model1=Sequential()"
   ]
  },
  {
   "cell_type": "code",
   "execution_count": null,
   "id": "fae4199d",
   "metadata": {},
   "outputs": [],
   "source": [
    "model1.add(tf.keras.layers.LSTM(128,dropout=0.2,recurrent_dropout=0.2))\n",
    "model1.add(Dense(14, activation='softmax'))  # 가능한 13개의 위치에 대한 softmax 출력"
   ]
  },
  {
   "cell_type": "code",
   "execution_count": null,
   "id": "81eb51e5",
   "metadata": {},
   "outputs": [],
   "source": [
    "model1.compile(loss='categorical_crossentropy',optimizer='adam',metrics=[\"mse\", \"accuracy\"])"
   ]
  },
  {
   "cell_type": "code",
   "execution_count": null,
   "id": "d690a31c",
   "metadata": {},
   "outputs": [],
   "source": [
    "history = model1.fit(X_train, Y_train, batch_size=32,epochs=10,validation_data=(X_val, Y_val))"
   ]
  },
  {
   "cell_type": "code",
   "execution_count": null,
   "id": "9ee40769",
   "metadata": {},
   "outputs": [],
   "source": [
    "fig, ax = plt.subplots()\n",
    "plt.plot(history.history[\"mse\"], label=\"Training MSE\")\n",
    "plt.plot(history.history[\"val_mse\"], label=\"Validation MSE\")\n",
    "plt.legend()\n",
    "fig.suptitle(\"MSE\")\n",
    "plt.show()"
   ]
  }
 ],
 "metadata": {
  "kernelspec": {
   "display_name": "Python 3",
   "language": "python",
   "name": "python3"
  },
  "language_info": {
   "codemirror_mode": {
    "name": "ipython",
    "version": 3
   },
   "file_extension": ".py",
   "mimetype": "text/x-python",
   "name": "python",
   "nbconvert_exporter": "python",
   "pygments_lexer": "ipython3",
   "version": "3.11.5"
  }
 },
 "nbformat": 4,
 "nbformat_minor": 5
}
