{
 "cells": [
  {
   "cell_type": "code",
   "execution_count": 1,
   "id": "f1ff9e96",
   "metadata": {},
   "outputs": [],
   "source": [
    "import pandas as pd\n",
    "import numpy as np"
   ]
  },
  {
   "cell_type": "code",
   "execution_count": 2,
   "id": "ae7edb7d",
   "metadata": {},
   "outputs": [],
   "source": [
    "data = pd.read_csv(\"contain_prev_pitch.csv\", index_col=0)"
   ]
  },
  {
   "cell_type": "code",
   "execution_count": 3,
   "id": "c0ebf7b1",
   "metadata": {},
   "outputs": [
    {
     "data": {
      "text/html": [
       "<div>\n",
       "<style scoped>\n",
       "    .dataframe tbody tr th:only-of-type {\n",
       "        vertical-align: middle;\n",
       "    }\n",
       "\n",
       "    .dataframe tbody tr th {\n",
       "        vertical-align: top;\n",
       "    }\n",
       "\n",
       "    .dataframe thead th {\n",
       "        text-align: right;\n",
       "    }\n",
       "</style>\n",
       "<table border=\"1\" class=\"dataframe\">\n",
       "  <thead>\n",
       "    <tr style=\"text-align: right;\">\n",
       "      <th></th>\n",
       "      <th>pitch_name</th>\n",
       "      <th>pitcher_x</th>\n",
       "      <th>description</th>\n",
       "      <th>zone</th>\n",
       "      <th>stand</th>\n",
       "      <th>p_throws</th>\n",
       "      <th>plate_x</th>\n",
       "      <th>plate_z</th>\n",
       "      <th>inning</th>\n",
       "      <th>pitch_number</th>\n",
       "      <th>pitch_type_group</th>\n",
       "      <th>change</th>\n",
       "      <th>prev_pitch</th>\n",
       "    </tr>\n",
       "  </thead>\n",
       "  <tbody>\n",
       "    <tr>\n",
       "      <th>0</th>\n",
       "      <td>5</td>\n",
       "      <td>676879</td>\n",
       "      <td>83</td>\n",
       "      <td>3.0</td>\n",
       "      <td>2</td>\n",
       "      <td>1</td>\n",
       "      <td>0.71</td>\n",
       "      <td>2.94</td>\n",
       "      <td>1</td>\n",
       "      <td>1</td>\n",
       "      <td>1</td>\n",
       "      <td>False</td>\n",
       "      <td>0</td>\n",
       "    </tr>\n",
       "    <tr>\n",
       "      <th>1</th>\n",
       "      <td>3</td>\n",
       "      <td>676879</td>\n",
       "      <td>66</td>\n",
       "      <td>13.0</td>\n",
       "      <td>2</td>\n",
       "      <td>1</td>\n",
       "      <td>-1.29</td>\n",
       "      <td>0.84</td>\n",
       "      <td>1</td>\n",
       "      <td>2</td>\n",
       "      <td>1</td>\n",
       "      <td>False</td>\n",
       "      <td>5</td>\n",
       "    </tr>\n",
       "    <tr>\n",
       "      <th>2</th>\n",
       "      <td>3</td>\n",
       "      <td>676879</td>\n",
       "      <td>83</td>\n",
       "      <td>4.0</td>\n",
       "      <td>2</td>\n",
       "      <td>1</td>\n",
       "      <td>-0.40</td>\n",
       "      <td>2.27</td>\n",
       "      <td>1</td>\n",
       "      <td>3</td>\n",
       "      <td>1</td>\n",
       "      <td>False</td>\n",
       "      <td>3</td>\n",
       "    </tr>\n",
       "    <tr>\n",
       "      <th>3</th>\n",
       "      <td>1</td>\n",
       "      <td>676879</td>\n",
       "      <td>83</td>\n",
       "      <td>12.0</td>\n",
       "      <td>2</td>\n",
       "      <td>1</td>\n",
       "      <td>1.15</td>\n",
       "      <td>3.25</td>\n",
       "      <td>1</td>\n",
       "      <td>4</td>\n",
       "      <td>1</td>\n",
       "      <td>False</td>\n",
       "      <td>3</td>\n",
       "    </tr>\n",
       "    <tr>\n",
       "      <th>4</th>\n",
       "      <td>3</td>\n",
       "      <td>676879</td>\n",
       "      <td>71</td>\n",
       "      <td>14.0</td>\n",
       "      <td>2</td>\n",
       "      <td>1</td>\n",
       "      <td>0.84</td>\n",
       "      <td>2.33</td>\n",
       "      <td>1</td>\n",
       "      <td>5</td>\n",
       "      <td>1</td>\n",
       "      <td>False</td>\n",
       "      <td>1</td>\n",
       "    </tr>\n",
       "    <tr>\n",
       "      <th>...</th>\n",
       "      <td>...</td>\n",
       "      <td>...</td>\n",
       "      <td>...</td>\n",
       "      <td>...</td>\n",
       "      <td>...</td>\n",
       "      <td>...</td>\n",
       "      <td>...</td>\n",
       "      <td>...</td>\n",
       "      <td>...</td>\n",
       "      <td>...</td>\n",
       "      <td>...</td>\n",
       "      <td>...</td>\n",
       "      <td>...</td>\n",
       "    </tr>\n",
       "    <tr>\n",
       "      <th>305863</th>\n",
       "      <td>1</td>\n",
       "      <td>669203</td>\n",
       "      <td>66</td>\n",
       "      <td>14.0</td>\n",
       "      <td>1</td>\n",
       "      <td>2</td>\n",
       "      <td>1.69</td>\n",
       "      <td>1.42</td>\n",
       "      <td>3</td>\n",
       "      <td>2</td>\n",
       "      <td>4</td>\n",
       "      <td>False</td>\n",
       "      <td>2</td>\n",
       "    </tr>\n",
       "    <tr>\n",
       "      <th>305864</th>\n",
       "      <td>4</td>\n",
       "      <td>669203</td>\n",
       "      <td>83</td>\n",
       "      <td>14.0</td>\n",
       "      <td>1</td>\n",
       "      <td>2</td>\n",
       "      <td>0.09</td>\n",
       "      <td>1.36</td>\n",
       "      <td>3</td>\n",
       "      <td>3</td>\n",
       "      <td>4</td>\n",
       "      <td>False</td>\n",
       "      <td>1</td>\n",
       "    </tr>\n",
       "    <tr>\n",
       "      <th>305865</th>\n",
       "      <td>5</td>\n",
       "      <td>669203</td>\n",
       "      <td>66</td>\n",
       "      <td>12.0</td>\n",
       "      <td>1</td>\n",
       "      <td>2</td>\n",
       "      <td>2.09</td>\n",
       "      <td>2.88</td>\n",
       "      <td>3</td>\n",
       "      <td>4</td>\n",
       "      <td>4</td>\n",
       "      <td>False</td>\n",
       "      <td>4</td>\n",
       "    </tr>\n",
       "    <tr>\n",
       "      <th>305866</th>\n",
       "      <td>2</td>\n",
       "      <td>669203</td>\n",
       "      <td>66</td>\n",
       "      <td>13.0</td>\n",
       "      <td>1</td>\n",
       "      <td>2</td>\n",
       "      <td>-0.70</td>\n",
       "      <td>0.84</td>\n",
       "      <td>3</td>\n",
       "      <td>5</td>\n",
       "      <td>4</td>\n",
       "      <td>False</td>\n",
       "      <td>5</td>\n",
       "    </tr>\n",
       "    <tr>\n",
       "      <th>305867</th>\n",
       "      <td>1</td>\n",
       "      <td>669203</td>\n",
       "      <td>71</td>\n",
       "      <td>3.0</td>\n",
       "      <td>1</td>\n",
       "      <td>2</td>\n",
       "      <td>0.47</td>\n",
       "      <td>2.96</td>\n",
       "      <td>3</td>\n",
       "      <td>6</td>\n",
       "      <td>4</td>\n",
       "      <td>True</td>\n",
       "      <td>2</td>\n",
       "    </tr>\n",
       "  </tbody>\n",
       "</table>\n",
       "<p>305868 rows × 13 columns</p>\n",
       "</div>"
      ],
      "text/plain": [
       "        pitch_name  pitcher_x  description  zone  stand  p_throws  plate_x  \\\n",
       "0                5     676879           83   3.0      2         1     0.71   \n",
       "1                3     676879           66  13.0      2         1    -1.29   \n",
       "2                3     676879           83   4.0      2         1    -0.40   \n",
       "3                1     676879           83  12.0      2         1     1.15   \n",
       "4                3     676879           71  14.0      2         1     0.84   \n",
       "...            ...        ...          ...   ...    ...       ...      ...   \n",
       "305863           1     669203           66  14.0      1         2     1.69   \n",
       "305864           4     669203           83  14.0      1         2     0.09   \n",
       "305865           5     669203           66  12.0      1         2     2.09   \n",
       "305866           2     669203           66  13.0      1         2    -0.70   \n",
       "305867           1     669203           71   3.0      1         2     0.47   \n",
       "\n",
       "        plate_z  inning  pitch_number  pitch_type_group  change  prev_pitch  \n",
       "0          2.94       1             1                 1   False           0  \n",
       "1          0.84       1             2                 1   False           5  \n",
       "2          2.27       1             3                 1   False           3  \n",
       "3          3.25       1             4                 1   False           3  \n",
       "4          2.33       1             5                 1   False           1  \n",
       "...         ...     ...           ...               ...     ...         ...  \n",
       "305863     1.42       3             2                 4   False           2  \n",
       "305864     1.36       3             3                 4   False           1  \n",
       "305865     2.88       3             4                 4   False           4  \n",
       "305866     0.84       3             5                 4   False           5  \n",
       "305867     2.96       3             6                 4    True           2  \n",
       "\n",
       "[305868 rows x 13 columns]"
      ]
     },
     "execution_count": 3,
     "metadata": {},
     "output_type": "execute_result"
    }
   ],
   "source": [
    "data"
   ]
  },
  {
   "cell_type": "code",
   "execution_count": 4,
   "id": "a51d0878",
   "metadata": {},
   "outputs": [],
   "source": [
    "data.drop([\"change\"],axis=1,inplace=True)"
   ]
  },
  {
   "cell_type": "code",
   "execution_count": 5,
   "id": "5e21e662",
   "metadata": {},
   "outputs": [],
   "source": [
    "X = data.drop(\"pitch_name\", axis=1)"
   ]
  },
  {
   "cell_type": "code",
   "execution_count": 6,
   "id": "db472467",
   "metadata": {},
   "outputs": [],
   "source": [
    "y = data[\"pitch_name\"].astype(int)"
   ]
  },
  {
   "cell_type": "code",
   "execution_count": 7,
   "id": "57f467a7",
   "metadata": {},
   "outputs": [],
   "source": [
    "X_origin = X.drop(\"pitch_type_group\", axis=1)"
   ]
  },
  {
   "cell_type": "code",
   "execution_count": 8,
   "id": "f81669e8",
   "metadata": {},
   "outputs": [],
   "source": [
    "from sklearn.model_selection import train_test_split"
   ]
  },
  {
   "cell_type": "code",
   "execution_count": 9,
   "id": "dad01052",
   "metadata": {},
   "outputs": [],
   "source": [
    "X_train, X_test, Y_train, Y_test = train_test_split(X, y, shuffle=True, test_size=0.3, random_state=42)"
   ]
  },
  {
   "cell_type": "code",
   "execution_count": 10,
   "id": "b3a97f4a",
   "metadata": {},
   "outputs": [],
   "source": [
    "X_train_origin, X_test_origin, Y_train_origin, Y_test_origin = train_test_split(X_origin, y, shuffle=True, test_size=0.3, random_state=42)"
   ]
  },
  {
   "cell_type": "code",
   "execution_count": 11,
   "id": "d87ea5e9",
   "metadata": {},
   "outputs": [],
   "source": [
    "Y_train = Y_train-1\n",
    "Y_train_origin = Y_train_origin -1"
   ]
  },
  {
   "cell_type": "code",
   "execution_count": 12,
   "id": "6f3ecc91",
   "metadata": {},
   "outputs": [],
   "source": [
    "x_train, x_val, y_train, y_val = train_test_split(X_train, Y_train, shuffle=True, test_size=0.3, random_state=42)"
   ]
  },
  {
   "cell_type": "code",
   "execution_count": 13,
   "id": "181559b9",
   "metadata": {},
   "outputs": [],
   "source": [
    "x_train_or, x_val_or, y_train_or, y_val_or = train_test_split(X_train_origin, Y_train_origin, shuffle=True, test_size=0.3, random_state=42)"
   ]
  },
  {
   "cell_type": "code",
   "execution_count": 14,
   "id": "d5b518ce",
   "metadata": {},
   "outputs": [],
   "source": [
    "from xgboost import XGBClassifier"
   ]
  },
  {
   "cell_type": "code",
   "execution_count": 15,
   "id": "9a386410",
   "metadata": {},
   "outputs": [
    {
     "name": "stdout",
     "output_type": "stream",
     "text": [
      "[0]\tvalidation_0-mlogloss:1.57580\n"
     ]
    },
    {
     "name": "stderr",
     "output_type": "stream",
     "text": [
      "C:\\Users\\Jeong Hyunji\\anaconda3\\envs\\tensorflow\\lib\\site-packages\\xgboost\\sklearn.py:889: UserWarning: `eval_metric` in `fit` method is deprecated for better compatibility with scikit-learn, use `eval_metric` in constructor or`set_params` instead.\n",
      "  warnings.warn(\n",
      "C:\\Users\\Jeong Hyunji\\anaconda3\\envs\\tensorflow\\lib\\site-packages\\xgboost\\sklearn.py:889: UserWarning: `early_stopping_rounds` in `fit` method is deprecated for better compatibility with scikit-learn, use `early_stopping_rounds` in constructor or`set_params` instead.\n",
      "  warnings.warn(\n"
     ]
    },
    {
     "name": "stdout",
     "output_type": "stream",
     "text": [
      "[1]\tvalidation_0-mlogloss:1.45260\n",
      "[2]\tvalidation_0-mlogloss:1.37219\n",
      "[3]\tvalidation_0-mlogloss:1.31019\n",
      "[4]\tvalidation_0-mlogloss:1.26529\n",
      "[5]\tvalidation_0-mlogloss:1.22897\n",
      "[6]\tvalidation_0-mlogloss:1.19985\n",
      "[7]\tvalidation_0-mlogloss:1.17758\n",
      "[8]\tvalidation_0-mlogloss:1.15637\n",
      "[9]\tvalidation_0-mlogloss:1.13980\n",
      "[10]\tvalidation_0-mlogloss:1.12531\n",
      "[11]\tvalidation_0-mlogloss:1.11295\n",
      "[12]\tvalidation_0-mlogloss:1.10174\n",
      "[13]\tvalidation_0-mlogloss:1.09323\n",
      "[14]\tvalidation_0-mlogloss:1.08181\n",
      "[15]\tvalidation_0-mlogloss:1.07095\n",
      "[16]\tvalidation_0-mlogloss:1.06508\n",
      "[17]\tvalidation_0-mlogloss:1.05707\n",
      "[18]\tvalidation_0-mlogloss:1.05098\n",
      "[19]\tvalidation_0-mlogloss:1.04645\n",
      "[20]\tvalidation_0-mlogloss:1.04044\n",
      "[21]\tvalidation_0-mlogloss:1.03566\n",
      "[22]\tvalidation_0-mlogloss:1.03129\n",
      "[23]\tvalidation_0-mlogloss:1.02721\n",
      "[24]\tvalidation_0-mlogloss:1.02266\n",
      "[25]\tvalidation_0-mlogloss:1.01882\n",
      "[26]\tvalidation_0-mlogloss:1.01597\n",
      "[27]\tvalidation_0-mlogloss:1.01275\n",
      "[28]\tvalidation_0-mlogloss:1.00953\n",
      "[29]\tvalidation_0-mlogloss:1.00813\n",
      "[30]\tvalidation_0-mlogloss:1.00389\n",
      "[31]\tvalidation_0-mlogloss:1.00172\n",
      "[32]\tvalidation_0-mlogloss:0.99853\n",
      "[33]\tvalidation_0-mlogloss:0.99530\n",
      "[34]\tvalidation_0-mlogloss:0.99266\n",
      "[35]\tvalidation_0-mlogloss:0.98951\n",
      "[36]\tvalidation_0-mlogloss:0.98826\n",
      "[37]\tvalidation_0-mlogloss:0.98703\n",
      "[38]\tvalidation_0-mlogloss:0.98513\n",
      "[39]\tvalidation_0-mlogloss:0.98316\n",
      "[40]\tvalidation_0-mlogloss:0.98117\n",
      "[41]\tvalidation_0-mlogloss:0.97944\n",
      "[42]\tvalidation_0-mlogloss:0.97812\n",
      "[43]\tvalidation_0-mlogloss:0.97611\n",
      "[44]\tvalidation_0-mlogloss:0.97424\n",
      "[45]\tvalidation_0-mlogloss:0.97211\n",
      "[46]\tvalidation_0-mlogloss:0.97108\n",
      "[47]\tvalidation_0-mlogloss:0.96952\n",
      "[48]\tvalidation_0-mlogloss:0.96784\n",
      "[49]\tvalidation_0-mlogloss:0.96698\n",
      "[50]\tvalidation_0-mlogloss:0.96556\n",
      "[51]\tvalidation_0-mlogloss:0.96430\n",
      "[52]\tvalidation_0-mlogloss:0.96338\n",
      "[53]\tvalidation_0-mlogloss:0.96188\n",
      "[54]\tvalidation_0-mlogloss:0.96114\n",
      "[55]\tvalidation_0-mlogloss:0.96023\n",
      "[56]\tvalidation_0-mlogloss:0.95867\n",
      "[57]\tvalidation_0-mlogloss:0.95690\n",
      "[58]\tvalidation_0-mlogloss:0.95602\n",
      "[59]\tvalidation_0-mlogloss:0.95470\n",
      "[60]\tvalidation_0-mlogloss:0.95389\n",
      "[61]\tvalidation_0-mlogloss:0.95319\n",
      "[62]\tvalidation_0-mlogloss:0.95249\n",
      "[63]\tvalidation_0-mlogloss:0.95204\n",
      "[64]\tvalidation_0-mlogloss:0.95124\n",
      "[65]\tvalidation_0-mlogloss:0.95048\n",
      "[66]\tvalidation_0-mlogloss:0.94995\n",
      "[67]\tvalidation_0-mlogloss:0.94935\n",
      "[68]\tvalidation_0-mlogloss:0.94881\n",
      "[69]\tvalidation_0-mlogloss:0.94776\n",
      "[70]\tvalidation_0-mlogloss:0.94686\n",
      "[71]\tvalidation_0-mlogloss:0.94649\n",
      "[72]\tvalidation_0-mlogloss:0.94604\n",
      "[73]\tvalidation_0-mlogloss:0.94516\n",
      "[74]\tvalidation_0-mlogloss:0.94454\n",
      "[75]\tvalidation_0-mlogloss:0.94377\n",
      "[76]\tvalidation_0-mlogloss:0.94321\n",
      "[77]\tvalidation_0-mlogloss:0.94251\n",
      "[78]\tvalidation_0-mlogloss:0.94168\n",
      "[79]\tvalidation_0-mlogloss:0.94128\n",
      "[80]\tvalidation_0-mlogloss:0.94059\n",
      "[81]\tvalidation_0-mlogloss:0.94000\n",
      "[82]\tvalidation_0-mlogloss:0.93964\n",
      "[83]\tvalidation_0-mlogloss:0.93917\n",
      "[84]\tvalidation_0-mlogloss:0.93865\n",
      "[85]\tvalidation_0-mlogloss:0.93838\n",
      "[86]\tvalidation_0-mlogloss:0.93816\n",
      "[87]\tvalidation_0-mlogloss:0.93776\n",
      "[88]\tvalidation_0-mlogloss:0.93732\n",
      "[89]\tvalidation_0-mlogloss:0.93699\n",
      "[90]\tvalidation_0-mlogloss:0.93654\n",
      "[91]\tvalidation_0-mlogloss:0.93613\n",
      "[92]\tvalidation_0-mlogloss:0.93537\n",
      "[93]\tvalidation_0-mlogloss:0.93475\n",
      "[94]\tvalidation_0-mlogloss:0.93456\n",
      "[95]\tvalidation_0-mlogloss:0.93429\n",
      "[96]\tvalidation_0-mlogloss:0.93386\n",
      "[97]\tvalidation_0-mlogloss:0.93374\n",
      "[98]\tvalidation_0-mlogloss:0.93335\n",
      "[99]\tvalidation_0-mlogloss:0.93315\n"
     ]
    }
   ],
   "source": [
    "from xgboost import XGBClassifier\n",
    "\n",
    "# 객체 생성\n",
    "model = XGBClassifier()\n",
    "xgb_model = model.fit(x_train, y_train, early_stopping_rounds=100, \n",
    "                        eval_metric='mlogloss',eval_set=[(x_val,y_val)])"
   ]
  },
  {
   "cell_type": "code",
   "execution_count": 16,
   "id": "454f688b",
   "metadata": {},
   "outputs": [
    {
     "name": "stderr",
     "output_type": "stream",
     "text": [
      "C:\\Users\\Jeong Hyunji\\anaconda3\\envs\\tensorflow\\lib\\site-packages\\xgboost\\sklearn.py:889: UserWarning: `eval_metric` in `fit` method is deprecated for better compatibility with scikit-learn, use `eval_metric` in constructor or`set_params` instead.\n",
      "  warnings.warn(\n",
      "C:\\Users\\Jeong Hyunji\\anaconda3\\envs\\tensorflow\\lib\\site-packages\\xgboost\\sklearn.py:889: UserWarning: `early_stopping_rounds` in `fit` method is deprecated for better compatibility with scikit-learn, use `early_stopping_rounds` in constructor or`set_params` instead.\n",
      "  warnings.warn(\n"
     ]
    },
    {
     "name": "stdout",
     "output_type": "stream",
     "text": [
      "[0]\tvalidation_0-mlogloss:1.60235\n",
      "[1]\tvalidation_0-mlogloss:1.49231\n",
      "[2]\tvalidation_0-mlogloss:1.41910\n",
      "[3]\tvalidation_0-mlogloss:1.36393\n",
      "[4]\tvalidation_0-mlogloss:1.32450\n",
      "[5]\tvalidation_0-mlogloss:1.29037\n",
      "[6]\tvalidation_0-mlogloss:1.26513\n",
      "[7]\tvalidation_0-mlogloss:1.24285\n",
      "[8]\tvalidation_0-mlogloss:1.22302\n",
      "[9]\tvalidation_0-mlogloss:1.20716\n",
      "[10]\tvalidation_0-mlogloss:1.19053\n",
      "[11]\tvalidation_0-mlogloss:1.17546\n",
      "[12]\tvalidation_0-mlogloss:1.16006\n",
      "[13]\tvalidation_0-mlogloss:1.14939\n",
      "[14]\tvalidation_0-mlogloss:1.13802\n",
      "[15]\tvalidation_0-mlogloss:1.12864\n",
      "[16]\tvalidation_0-mlogloss:1.12009\n",
      "[17]\tvalidation_0-mlogloss:1.11245\n",
      "[18]\tvalidation_0-mlogloss:1.10729\n",
      "[19]\tvalidation_0-mlogloss:1.09877\n",
      "[20]\tvalidation_0-mlogloss:1.09164\n",
      "[21]\tvalidation_0-mlogloss:1.08503\n",
      "[22]\tvalidation_0-mlogloss:1.08060\n",
      "[23]\tvalidation_0-mlogloss:1.07399\n",
      "[24]\tvalidation_0-mlogloss:1.06856\n",
      "[25]\tvalidation_0-mlogloss:1.06218\n",
      "[26]\tvalidation_0-mlogloss:1.05759\n",
      "[27]\tvalidation_0-mlogloss:1.05404\n",
      "[28]\tvalidation_0-mlogloss:1.04963\n",
      "[29]\tvalidation_0-mlogloss:1.04515\n",
      "[30]\tvalidation_0-mlogloss:1.04280\n",
      "[31]\tvalidation_0-mlogloss:1.03762\n",
      "[32]\tvalidation_0-mlogloss:1.03508\n",
      "[33]\tvalidation_0-mlogloss:1.03248\n",
      "[34]\tvalidation_0-mlogloss:1.02993\n",
      "[35]\tvalidation_0-mlogloss:1.02693\n",
      "[36]\tvalidation_0-mlogloss:1.02430\n",
      "[37]\tvalidation_0-mlogloss:1.02161\n",
      "[38]\tvalidation_0-mlogloss:1.01942\n",
      "[39]\tvalidation_0-mlogloss:1.01670\n",
      "[40]\tvalidation_0-mlogloss:1.01451\n",
      "[41]\tvalidation_0-mlogloss:1.01244\n",
      "[42]\tvalidation_0-mlogloss:1.00949\n",
      "[43]\tvalidation_0-mlogloss:1.00769\n",
      "[44]\tvalidation_0-mlogloss:1.00477\n",
      "[45]\tvalidation_0-mlogloss:1.00345\n",
      "[46]\tvalidation_0-mlogloss:1.00170\n",
      "[47]\tvalidation_0-mlogloss:0.99871\n",
      "[48]\tvalidation_0-mlogloss:0.99739\n",
      "[49]\tvalidation_0-mlogloss:0.99534\n",
      "[50]\tvalidation_0-mlogloss:0.99311\n",
      "[51]\tvalidation_0-mlogloss:0.99197\n",
      "[52]\tvalidation_0-mlogloss:0.99112\n",
      "[53]\tvalidation_0-mlogloss:0.98811\n",
      "[54]\tvalidation_0-mlogloss:0.98649\n",
      "[55]\tvalidation_0-mlogloss:0.98474\n",
      "[56]\tvalidation_0-mlogloss:0.98409\n",
      "[57]\tvalidation_0-mlogloss:0.98309\n",
      "[58]\tvalidation_0-mlogloss:0.98151\n",
      "[59]\tvalidation_0-mlogloss:0.97960\n",
      "[60]\tvalidation_0-mlogloss:0.97681\n",
      "[61]\tvalidation_0-mlogloss:0.97513\n",
      "[62]\tvalidation_0-mlogloss:0.97431\n",
      "[63]\tvalidation_0-mlogloss:0.97311\n",
      "[64]\tvalidation_0-mlogloss:0.97241\n",
      "[65]\tvalidation_0-mlogloss:0.97186\n",
      "[66]\tvalidation_0-mlogloss:0.97105\n",
      "[67]\tvalidation_0-mlogloss:0.96998\n",
      "[68]\tvalidation_0-mlogloss:0.96795\n",
      "[69]\tvalidation_0-mlogloss:0.96735\n",
      "[70]\tvalidation_0-mlogloss:0.96666\n",
      "[71]\tvalidation_0-mlogloss:0.96608\n",
      "[72]\tvalidation_0-mlogloss:0.96464\n",
      "[73]\tvalidation_0-mlogloss:0.96373\n",
      "[74]\tvalidation_0-mlogloss:0.96254\n",
      "[75]\tvalidation_0-mlogloss:0.96210\n",
      "[76]\tvalidation_0-mlogloss:0.96166\n",
      "[77]\tvalidation_0-mlogloss:0.96148\n",
      "[78]\tvalidation_0-mlogloss:0.96039\n",
      "[79]\tvalidation_0-mlogloss:0.95975\n",
      "[80]\tvalidation_0-mlogloss:0.95919\n",
      "[81]\tvalidation_0-mlogloss:0.95857\n",
      "[82]\tvalidation_0-mlogloss:0.95764\n",
      "[83]\tvalidation_0-mlogloss:0.95683\n",
      "[84]\tvalidation_0-mlogloss:0.95615\n",
      "[85]\tvalidation_0-mlogloss:0.95589\n",
      "[86]\tvalidation_0-mlogloss:0.95508\n",
      "[87]\tvalidation_0-mlogloss:0.95478\n",
      "[88]\tvalidation_0-mlogloss:0.95428\n",
      "[89]\tvalidation_0-mlogloss:0.95347\n",
      "[90]\tvalidation_0-mlogloss:0.95307\n",
      "[91]\tvalidation_0-mlogloss:0.95266\n",
      "[92]\tvalidation_0-mlogloss:0.95182\n",
      "[93]\tvalidation_0-mlogloss:0.95055\n",
      "[94]\tvalidation_0-mlogloss:0.94997\n",
      "[95]\tvalidation_0-mlogloss:0.94928\n",
      "[96]\tvalidation_0-mlogloss:0.94859\n",
      "[97]\tvalidation_0-mlogloss:0.94793\n",
      "[98]\tvalidation_0-mlogloss:0.94745\n",
      "[99]\tvalidation_0-mlogloss:0.94671\n"
     ]
    }
   ],
   "source": [
    "from xgboost import XGBClassifier\n",
    "\n",
    "# 객체 생성\n",
    "model = XGBClassifier()\n",
    "xgb_model_or = model.fit(x_train_or, y_train_or, early_stopping_rounds=100, \n",
    "                        eval_metric='mlogloss',eval_set=[(x_val_or,y_val_or)])"
   ]
  },
  {
   "cell_type": "code",
   "execution_count": 17,
   "id": "e4e00e6d",
   "metadata": {},
   "outputs": [],
   "source": [
    "y_pred = xgb_model.predict(X_test)"
   ]
  },
  {
   "cell_type": "code",
   "execution_count": 18,
   "id": "4a42c2b0",
   "metadata": {},
   "outputs": [],
   "source": [
    "y_pred_or =  xgb_model_or.predict(X_test_origin)"
   ]
  },
  {
   "cell_type": "code",
   "execution_count": null,
   "id": "e25a57ea",
   "metadata": {},
   "outputs": [],
   "source": []
  },
  {
   "cell_type": "code",
   "execution_count": 19,
   "id": "2a267535",
   "metadata": {},
   "outputs": [],
   "source": [
    "y_pred = y_pred + 1"
   ]
  },
  {
   "cell_type": "code",
   "execution_count": 20,
   "id": "a5e206d5",
   "metadata": {},
   "outputs": [],
   "source": [
    "y_pred_or = y_pred_or + 1"
   ]
  },
  {
   "cell_type": "code",
   "execution_count": 21,
   "id": "39dd6bda",
   "metadata": {},
   "outputs": [],
   "source": [
    "y_ans = Y_test"
   ]
  },
  {
   "cell_type": "code",
   "execution_count": 22,
   "id": "aeb6d5ec",
   "metadata": {},
   "outputs": [],
   "source": [
    "y_ans_or = Y_test_origin"
   ]
  },
  {
   "cell_type": "code",
   "execution_count": 23,
   "id": "c2402979",
   "metadata": {},
   "outputs": [],
   "source": [
    "from sklearn.metrics import accuracy_score"
   ]
  },
  {
   "cell_type": "code",
   "execution_count": 25,
   "id": "4a1aa79c",
   "metadata": {},
   "outputs": [
    {
     "data": {
      "text/plain": [
       "0.6187269101252166"
      ]
     },
     "execution_count": 25,
     "metadata": {},
     "output_type": "execute_result"
    }
   ],
   "source": [
    "accuracy = accuracy_score(y_ans, y_pred)\n",
    "accuracy"
   ]
  },
  {
   "cell_type": "code",
   "execution_count": 26,
   "id": "f7bfae27",
   "metadata": {},
   "outputs": [
    {
     "data": {
      "text/plain": [
       "0.6180403439369667"
      ]
     },
     "execution_count": 26,
     "metadata": {},
     "output_type": "execute_result"
    }
   ],
   "source": [
    "accuracy = accuracy_score(y_ans_or, y_pred_or)\n",
    "accuracy"
   ]
  },
  {
   "cell_type": "code",
   "execution_count": null,
   "id": "74903c73",
   "metadata": {},
   "outputs": [],
   "source": []
  },
  {
   "cell_type": "code",
   "execution_count": null,
   "id": "953fc55b",
   "metadata": {},
   "outputs": [],
   "source": []
  },
  {
   "cell_type": "code",
   "execution_count": null,
   "id": "a76777bd",
   "metadata": {},
   "outputs": [],
   "source": []
  },
  {
   "cell_type": "code",
   "execution_count": null,
   "id": "c007d301",
   "metadata": {},
   "outputs": [],
   "source": []
  },
  {
   "cell_type": "code",
   "execution_count": null,
   "id": "fba0f8a7",
   "metadata": {},
   "outputs": [],
   "source": []
  },
  {
   "cell_type": "code",
   "execution_count": null,
   "id": "b914ccb0",
   "metadata": {},
   "outputs": [],
   "source": []
  },
  {
   "cell_type": "code",
   "execution_count": null,
   "id": "f5badb0b",
   "metadata": {},
   "outputs": [],
   "source": []
  },
  {
   "cell_type": "code",
   "execution_count": null,
   "id": "fb70a143",
   "metadata": {},
   "outputs": [],
   "source": []
  }
 ],
 "metadata": {
  "kernelspec": {
   "display_name": "deeplearning",
   "language": "python",
   "name": "tensorflow"
  },
  "language_info": {
   "codemirror_mode": {
    "name": "ipython",
    "version": 3
   },
   "file_extension": ".py",
   "mimetype": "text/x-python",
   "name": "python",
   "nbconvert_exporter": "python",
   "pygments_lexer": "ipython3",
   "version": "3.10.13"
  }
 },
 "nbformat": 4,
 "nbformat_minor": 5
}
