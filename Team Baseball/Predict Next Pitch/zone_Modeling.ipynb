{
 "cells": [
  {
   "cell_type": "code",
   "execution_count": 1,
   "id": "f1ff9e96",
   "metadata": {},
   "outputs": [],
   "source": [
    "import pandas as pd\n",
    "import numpy as np"
   ]
  },
  {
   "cell_type": "code",
   "execution_count": 2,
   "id": "ae7edb7d",
   "metadata": {},
   "outputs": [],
   "source": [
    "data = pd.read_csv(\"contain_prev.csv\", index_col=0) #이전에 던진 zone을 포함하는 데이터"
   ]
  },
  {
   "cell_type": "code",
   "execution_count": 3,
   "id": "c0ebf7b1",
   "metadata": {},
   "outputs": [
    {
     "data": {
      "text/html": [
       "<div>\n",
       "<style scoped>\n",
       "    .dataframe tbody tr th:only-of-type {\n",
       "        vertical-align: middle;\n",
       "    }\n",
       "\n",
       "    .dataframe tbody tr th {\n",
       "        vertical-align: top;\n",
       "    }\n",
       "\n",
       "    .dataframe thead th {\n",
       "        text-align: right;\n",
       "    }\n",
       "</style>\n",
       "<table border=\"1\" class=\"dataframe\">\n",
       "  <thead>\n",
       "    <tr style=\"text-align: right;\">\n",
       "      <th></th>\n",
       "      <th>pitch_name</th>\n",
       "      <th>pitcher_x</th>\n",
       "      <th>description</th>\n",
       "      <th>stand</th>\n",
       "      <th>p_throws</th>\n",
       "      <th>plate_x</th>\n",
       "      <th>plate_z</th>\n",
       "      <th>inning</th>\n",
       "      <th>pitch_number</th>\n",
       "      <th>zone_group</th>\n",
       "      <th>prev_zone</th>\n",
       "      <th>y</th>\n",
       "    </tr>\n",
       "  </thead>\n",
       "  <tbody>\n",
       "    <tr>\n",
       "      <th>0</th>\n",
       "      <td>5</td>\n",
       "      <td>676879</td>\n",
       "      <td>83</td>\n",
       "      <td>2</td>\n",
       "      <td>1</td>\n",
       "      <td>0.71</td>\n",
       "      <td>2.94</td>\n",
       "      <td>1</td>\n",
       "      <td>1</td>\n",
       "      <td>1</td>\n",
       "      <td>0.0</td>\n",
       "      <td>3.0</td>\n",
       "    </tr>\n",
       "    <tr>\n",
       "      <th>1</th>\n",
       "      <td>3</td>\n",
       "      <td>676879</td>\n",
       "      <td>66</td>\n",
       "      <td>2</td>\n",
       "      <td>1</td>\n",
       "      <td>-1.29</td>\n",
       "      <td>0.84</td>\n",
       "      <td>1</td>\n",
       "      <td>2</td>\n",
       "      <td>1</td>\n",
       "      <td>3.0</td>\n",
       "      <td>13.0</td>\n",
       "    </tr>\n",
       "    <tr>\n",
       "      <th>2</th>\n",
       "      <td>3</td>\n",
       "      <td>676879</td>\n",
       "      <td>83</td>\n",
       "      <td>2</td>\n",
       "      <td>1</td>\n",
       "      <td>-0.40</td>\n",
       "      <td>2.27</td>\n",
       "      <td>1</td>\n",
       "      <td>3</td>\n",
       "      <td>1</td>\n",
       "      <td>13.0</td>\n",
       "      <td>4.0</td>\n",
       "    </tr>\n",
       "    <tr>\n",
       "      <th>3</th>\n",
       "      <td>1</td>\n",
       "      <td>676879</td>\n",
       "      <td>83</td>\n",
       "      <td>2</td>\n",
       "      <td>1</td>\n",
       "      <td>1.15</td>\n",
       "      <td>3.25</td>\n",
       "      <td>1</td>\n",
       "      <td>4</td>\n",
       "      <td>1</td>\n",
       "      <td>4.0</td>\n",
       "      <td>12.0</td>\n",
       "    </tr>\n",
       "    <tr>\n",
       "      <th>4</th>\n",
       "      <td>3</td>\n",
       "      <td>676879</td>\n",
       "      <td>71</td>\n",
       "      <td>2</td>\n",
       "      <td>1</td>\n",
       "      <td>0.84</td>\n",
       "      <td>2.33</td>\n",
       "      <td>1</td>\n",
       "      <td>5</td>\n",
       "      <td>1</td>\n",
       "      <td>12.0</td>\n",
       "      <td>14.0</td>\n",
       "    </tr>\n",
       "    <tr>\n",
       "      <th>...</th>\n",
       "      <td>...</td>\n",
       "      <td>...</td>\n",
       "      <td>...</td>\n",
       "      <td>...</td>\n",
       "      <td>...</td>\n",
       "      <td>...</td>\n",
       "      <td>...</td>\n",
       "      <td>...</td>\n",
       "      <td>...</td>\n",
       "      <td>...</td>\n",
       "      <td>...</td>\n",
       "      <td>...</td>\n",
       "    </tr>\n",
       "    <tr>\n",
       "      <th>305863</th>\n",
       "      <td>1</td>\n",
       "      <td>669203</td>\n",
       "      <td>66</td>\n",
       "      <td>1</td>\n",
       "      <td>2</td>\n",
       "      <td>1.69</td>\n",
       "      <td>1.42</td>\n",
       "      <td>3</td>\n",
       "      <td>2</td>\n",
       "      <td>3</td>\n",
       "      <td>8.0</td>\n",
       "      <td>14.0</td>\n",
       "    </tr>\n",
       "    <tr>\n",
       "      <th>305864</th>\n",
       "      <td>4</td>\n",
       "      <td>669203</td>\n",
       "      <td>83</td>\n",
       "      <td>1</td>\n",
       "      <td>2</td>\n",
       "      <td>0.09</td>\n",
       "      <td>1.36</td>\n",
       "      <td>3</td>\n",
       "      <td>3</td>\n",
       "      <td>3</td>\n",
       "      <td>14.0</td>\n",
       "      <td>14.0</td>\n",
       "    </tr>\n",
       "    <tr>\n",
       "      <th>305865</th>\n",
       "      <td>5</td>\n",
       "      <td>669203</td>\n",
       "      <td>66</td>\n",
       "      <td>1</td>\n",
       "      <td>2</td>\n",
       "      <td>2.09</td>\n",
       "      <td>2.88</td>\n",
       "      <td>3</td>\n",
       "      <td>4</td>\n",
       "      <td>3</td>\n",
       "      <td>14.0</td>\n",
       "      <td>12.0</td>\n",
       "    </tr>\n",
       "    <tr>\n",
       "      <th>305866</th>\n",
       "      <td>2</td>\n",
       "      <td>669203</td>\n",
       "      <td>66</td>\n",
       "      <td>1</td>\n",
       "      <td>2</td>\n",
       "      <td>-0.70</td>\n",
       "      <td>0.84</td>\n",
       "      <td>3</td>\n",
       "      <td>5</td>\n",
       "      <td>3</td>\n",
       "      <td>12.0</td>\n",
       "      <td>13.0</td>\n",
       "    </tr>\n",
       "    <tr>\n",
       "      <th>305867</th>\n",
       "      <td>1</td>\n",
       "      <td>669203</td>\n",
       "      <td>71</td>\n",
       "      <td>1</td>\n",
       "      <td>2</td>\n",
       "      <td>0.47</td>\n",
       "      <td>2.96</td>\n",
       "      <td>3</td>\n",
       "      <td>6</td>\n",
       "      <td>3</td>\n",
       "      <td>13.0</td>\n",
       "      <td>3.0</td>\n",
       "    </tr>\n",
       "  </tbody>\n",
       "</table>\n",
       "<p>305868 rows × 12 columns</p>\n",
       "</div>"
      ],
      "text/plain": [
       "        pitch_name  pitcher_x  description  stand  p_throws  plate_x  plate_z  \\\n",
       "0                5     676879           83      2         1     0.71     2.94   \n",
       "1                3     676879           66      2         1    -1.29     0.84   \n",
       "2                3     676879           83      2         1    -0.40     2.27   \n",
       "3                1     676879           83      2         1     1.15     3.25   \n",
       "4                3     676879           71      2         1     0.84     2.33   \n",
       "...            ...        ...          ...    ...       ...      ...      ...   \n",
       "305863           1     669203           66      1         2     1.69     1.42   \n",
       "305864           4     669203           83      1         2     0.09     1.36   \n",
       "305865           5     669203           66      1         2     2.09     2.88   \n",
       "305866           2     669203           66      1         2    -0.70     0.84   \n",
       "305867           1     669203           71      1         2     0.47     2.96   \n",
       "\n",
       "        inning  pitch_number  zone_group  prev_zone     y  \n",
       "0            1             1           1        0.0   3.0  \n",
       "1            1             2           1        3.0  13.0  \n",
       "2            1             3           1       13.0   4.0  \n",
       "3            1             4           1        4.0  12.0  \n",
       "4            1             5           1       12.0  14.0  \n",
       "...        ...           ...         ...        ...   ...  \n",
       "305863       3             2           3        8.0  14.0  \n",
       "305864       3             3           3       14.0  14.0  \n",
       "305865       3             4           3       14.0  12.0  \n",
       "305866       3             5           3       12.0  13.0  \n",
       "305867       3             6           3       13.0   3.0  \n",
       "\n",
       "[305868 rows x 12 columns]"
      ]
     },
     "execution_count": 3,
     "metadata": {},
     "output_type": "execute_result"
    }
   ],
   "source": [
    "data"
   ]
  },
  {
   "cell_type": "code",
   "execution_count": 6,
   "id": "53a6e555",
   "metadata": {},
   "outputs": [],
   "source": [
    "X = data.drop(\"y\", axis=1)"
   ]
  },
  {
   "cell_type": "code",
   "execution_count": 7,
   "id": "26c04feb",
   "metadata": {},
   "outputs": [],
   "source": [
    "y = data[\"y\"].astype(int)"
   ]
  },
  {
   "cell_type": "code",
   "execution_count": 9,
   "id": "8f2d3e76",
   "metadata": {},
   "outputs": [],
   "source": [
    "from sklearn.model_selection import train_test_split"
   ]
  },
  {
   "cell_type": "code",
   "execution_count": 10,
   "id": "c6ff3d0c",
   "metadata": {},
   "outputs": [],
   "source": [
    "X_train, X_test, Y_train, Y_test = train_test_split(X, y, shuffle=True, test_size=0.3, random_state=42, stratify=x_train[\"zone_group\"])"
   ]
  },
  {
   "cell_type": "code",
   "execution_count": 11,
   "id": "4458e6ac",
   "metadata": {},
   "outputs": [],
   "source": [
    "#jupyter에서는 paycaret 이 잘 돌아가지 않아 colab에서 실행 -> 가장 좋은 모델을 가져옴\n",
    "#!pip install pycaret[full]\n",
    "#!pip install catboost"
   ]
  },
  {
   "cell_type": "code",
   "execution_count": 15,
   "id": "fd805ead",
   "metadata": {},
   "outputs": [],
   "source": [
    "#!pip install catboost"
   ]
  },
  {
   "cell_type": "code",
   "execution_count": null,
   "id": "2df45884",
   "metadata": {},
   "outputs": [],
   "source": [
    "#y값 바꿔주기 Xgboost 가 label을 0에서 순차적으로 처리"
   ]
  },
  {
   "cell_type": "code",
   "execution_count": 13,
   "id": "55ad1886",
   "metadata": {},
   "outputs": [],
   "source": [
    "Y_train = Y_train-1"
   ]
  },
  {
   "cell_type": "code",
   "execution_count": 14,
   "id": "9558d580",
   "metadata": {},
   "outputs": [],
   "source": [
    "Y_train = Y_train.replace(14,9)"
   ]
  },
  {
   "cell_type": "code",
   "execution_count": 16,
   "id": "b798cc8d",
   "metadata": {},
   "outputs": [],
   "source": [
    "x_train, x_val, y_train, y_val = train_test_split(X_train, Y_train, shuffle=True, test_size=0.3, random_state=42, stratify=X_train[\"zone_group\"])"
   ]
  },
  {
   "cell_type": "code",
   "execution_count": 18,
   "id": "6cf50702",
   "metadata": {},
   "outputs": [
    {
     "name": "stdout",
     "output_type": "stream",
     "text": [
      "[0]\tvalidation_0-mlogloss:1.15108\n"
     ]
    },
    {
     "name": "stderr",
     "output_type": "stream",
     "text": [
      "C:\\Users\\Jeong Hyunji\\anaconda3\\lib\\site-packages\\xgboost\\sklearn.py:885: UserWarning: `eval_metric` in `fit` method is deprecated for better compatibility with scikit-learn, use `eval_metric` in constructor or`set_params` instead.\n",
      "  warnings.warn(\n",
      "C:\\Users\\Jeong Hyunji\\anaconda3\\lib\\site-packages\\xgboost\\sklearn.py:885: UserWarning: `early_stopping_rounds` in `fit` method is deprecated for better compatibility with scikit-learn, use `early_stopping_rounds` in constructor or`set_params` instead.\n",
      "  warnings.warn(\n"
     ]
    },
    {
     "name": "stdout",
     "output_type": "stream",
     "text": [
      "[1]\tvalidation_0-mlogloss:0.88346\n",
      "[2]\tvalidation_0-mlogloss:0.71274\n",
      "[3]\tvalidation_0-mlogloss:0.59533\n",
      "[4]\tvalidation_0-mlogloss:0.51161\n",
      "[5]\tvalidation_0-mlogloss:0.45062\n",
      "[6]\tvalidation_0-mlogloss:0.40561\n",
      "[7]\tvalidation_0-mlogloss:0.37192\n",
      "[8]\tvalidation_0-mlogloss:0.34645\n",
      "[9]\tvalidation_0-mlogloss:0.32708\n",
      "[10]\tvalidation_0-mlogloss:0.31232\n",
      "[11]\tvalidation_0-mlogloss:0.30080\n",
      "[12]\tvalidation_0-mlogloss:0.29177\n",
      "[13]\tvalidation_0-mlogloss:0.28464\n",
      "[14]\tvalidation_0-mlogloss:0.27896\n",
      "[15]\tvalidation_0-mlogloss:0.27436\n",
      "[16]\tvalidation_0-mlogloss:0.27076\n",
      "[17]\tvalidation_0-mlogloss:0.26786\n",
      "[18]\tvalidation_0-mlogloss:0.26538\n",
      "[19]\tvalidation_0-mlogloss:0.26341\n",
      "[20]\tvalidation_0-mlogloss:0.26188\n",
      "[21]\tvalidation_0-mlogloss:0.26037\n",
      "[22]\tvalidation_0-mlogloss:0.25925\n",
      "[23]\tvalidation_0-mlogloss:0.25819\n",
      "[24]\tvalidation_0-mlogloss:0.25726\n",
      "[25]\tvalidation_0-mlogloss:0.25659\n",
      "[26]\tvalidation_0-mlogloss:0.25595\n",
      "[27]\tvalidation_0-mlogloss:0.25548\n",
      "[28]\tvalidation_0-mlogloss:0.25510\n",
      "[29]\tvalidation_0-mlogloss:0.25474\n",
      "[30]\tvalidation_0-mlogloss:0.25439\n",
      "[31]\tvalidation_0-mlogloss:0.25411\n",
      "[32]\tvalidation_0-mlogloss:0.25390\n",
      "[33]\tvalidation_0-mlogloss:0.25370\n",
      "[34]\tvalidation_0-mlogloss:0.25355\n",
      "[35]\tvalidation_0-mlogloss:0.25345\n",
      "[36]\tvalidation_0-mlogloss:0.25335\n",
      "[37]\tvalidation_0-mlogloss:0.25331\n",
      "[38]\tvalidation_0-mlogloss:0.25323\n",
      "[39]\tvalidation_0-mlogloss:0.25318\n",
      "[40]\tvalidation_0-mlogloss:0.25321\n",
      "[41]\tvalidation_0-mlogloss:0.25324\n",
      "[42]\tvalidation_0-mlogloss:0.25329\n",
      "[43]\tvalidation_0-mlogloss:0.25332\n",
      "[44]\tvalidation_0-mlogloss:0.25338\n",
      "[45]\tvalidation_0-mlogloss:0.25338\n",
      "[46]\tvalidation_0-mlogloss:0.25342\n",
      "[47]\tvalidation_0-mlogloss:0.25346\n",
      "[48]\tvalidation_0-mlogloss:0.25357\n",
      "[49]\tvalidation_0-mlogloss:0.25372\n",
      "[50]\tvalidation_0-mlogloss:0.25377\n",
      "[51]\tvalidation_0-mlogloss:0.25375\n",
      "[52]\tvalidation_0-mlogloss:0.25388\n",
      "[53]\tvalidation_0-mlogloss:0.25387\n",
      "[54]\tvalidation_0-mlogloss:0.25395\n",
      "[55]\tvalidation_0-mlogloss:0.25407\n",
      "[56]\tvalidation_0-mlogloss:0.25417\n",
      "[57]\tvalidation_0-mlogloss:0.25432\n",
      "[58]\tvalidation_0-mlogloss:0.25437\n",
      "[59]\tvalidation_0-mlogloss:0.25452\n",
      "[60]\tvalidation_0-mlogloss:0.25473\n",
      "[61]\tvalidation_0-mlogloss:0.25485\n",
      "[62]\tvalidation_0-mlogloss:0.25505\n",
      "[63]\tvalidation_0-mlogloss:0.25527\n",
      "[64]\tvalidation_0-mlogloss:0.25537\n",
      "[65]\tvalidation_0-mlogloss:0.25557\n",
      "[66]\tvalidation_0-mlogloss:0.25573\n",
      "[67]\tvalidation_0-mlogloss:0.25599\n",
      "[68]\tvalidation_0-mlogloss:0.25611\n",
      "[69]\tvalidation_0-mlogloss:0.25629\n",
      "[70]\tvalidation_0-mlogloss:0.25645\n",
      "[71]\tvalidation_0-mlogloss:0.25670\n",
      "[72]\tvalidation_0-mlogloss:0.25690\n",
      "[73]\tvalidation_0-mlogloss:0.25710\n",
      "[74]\tvalidation_0-mlogloss:0.25735\n",
      "[75]\tvalidation_0-mlogloss:0.25754\n",
      "[76]\tvalidation_0-mlogloss:0.25769\n",
      "[77]\tvalidation_0-mlogloss:0.25795\n",
      "[78]\tvalidation_0-mlogloss:0.25810\n",
      "[79]\tvalidation_0-mlogloss:0.25823\n",
      "[80]\tvalidation_0-mlogloss:0.25838\n",
      "[81]\tvalidation_0-mlogloss:0.25851\n",
      "[82]\tvalidation_0-mlogloss:0.25873\n",
      "[83]\tvalidation_0-mlogloss:0.25880\n",
      "[84]\tvalidation_0-mlogloss:0.25897\n",
      "[85]\tvalidation_0-mlogloss:0.25916\n",
      "[86]\tvalidation_0-mlogloss:0.25934\n",
      "[87]\tvalidation_0-mlogloss:0.25942\n",
      "[88]\tvalidation_0-mlogloss:0.25954\n",
      "[89]\tvalidation_0-mlogloss:0.25980\n",
      "[90]\tvalidation_0-mlogloss:0.25994\n",
      "[91]\tvalidation_0-mlogloss:0.26015\n",
      "[92]\tvalidation_0-mlogloss:0.26032\n",
      "[93]\tvalidation_0-mlogloss:0.26057\n",
      "[94]\tvalidation_0-mlogloss:0.26082\n",
      "[95]\tvalidation_0-mlogloss:0.26109\n",
      "[96]\tvalidation_0-mlogloss:0.26118\n",
      "[97]\tvalidation_0-mlogloss:0.26133\n",
      "[98]\tvalidation_0-mlogloss:0.26145\n",
      "[99]\tvalidation_0-mlogloss:0.26155\n"
     ]
    }
   ],
   "source": [
    "from xgboost import XGBClassifier\n",
    "\n",
    "# 객체 생성\n",
    "model = XGBClassifier()\n",
    "xgb_model = model.fit(x_train, y_train, early_stopping_rounds=100, \n",
    "                        eval_metric='mlogloss',eval_set=[(x_val, y_val)])"
   ]
  },
  {
   "cell_type": "markdown",
   "id": "01915bcb",
   "metadata": {},
   "source": [
    "하이퍼파라미터튜닝 역시 colab에서 진행"
   ]
  },
  {
   "cell_type": "code",
   "execution_count": 19,
   "id": "bd5a9652",
   "metadata": {},
   "outputs": [],
   "source": [
    "y_pred = xgb_model.predict(X_test)"
   ]
  },
  {
   "cell_type": "code",
   "execution_count": 20,
   "id": "c4bcd75c",
   "metadata": {},
   "outputs": [],
   "source": [
    "y_pred = y_pred + 1"
   ]
  },
  {
   "cell_type": "code",
   "execution_count": 21,
   "id": "aa348c6f",
   "metadata": {},
   "outputs": [],
   "source": [
    "y_pred[y_pred == 10] = 15"
   ]
  },
  {
   "cell_type": "code",
   "execution_count": 22,
   "id": "e6904812",
   "metadata": {},
   "outputs": [],
   "source": [
    "pred = pd.DataFrame(y_pred, columns=[\"pred\"])"
   ]
  },
  {
   "cell_type": "code",
   "execution_count": 24,
   "id": "fba9538c",
   "metadata": {},
   "outputs": [],
   "source": [
    "original = Y_test.to_frame()"
   ]
  },
  {
   "cell_type": "code",
   "execution_count": 25,
   "id": "a76777bd",
   "metadata": {},
   "outputs": [],
   "source": [
    "original = original.reset_index(drop=True)"
   ]
  },
  {
   "cell_type": "code",
   "execution_count": 26,
   "id": "8a3151bd",
   "metadata": {},
   "outputs": [],
   "source": [
    "original = original.astype(int)"
   ]
  },
  {
   "cell_type": "code",
   "execution_count": 27,
   "id": "c007d301",
   "metadata": {},
   "outputs": [],
   "source": [
    "result = pd.merge(original,pred, left_index=True, right_index=True)"
   ]
  },
  {
   "cell_type": "code",
   "execution_count": 28,
   "id": "bed92c1b",
   "metadata": {},
   "outputs": [
    {
     "data": {
      "text/html": [
       "<div>\n",
       "<style scoped>\n",
       "    .dataframe tbody tr th:only-of-type {\n",
       "        vertical-align: middle;\n",
       "    }\n",
       "\n",
       "    .dataframe tbody tr th {\n",
       "        vertical-align: top;\n",
       "    }\n",
       "\n",
       "    .dataframe thead th {\n",
       "        text-align: right;\n",
       "    }\n",
       "</style>\n",
       "<table border=\"1\" class=\"dataframe\">\n",
       "  <thead>\n",
       "    <tr style=\"text-align: right;\">\n",
       "      <th></th>\n",
       "      <th>y</th>\n",
       "      <th>pred</th>\n",
       "    </tr>\n",
       "  </thead>\n",
       "  <tbody>\n",
       "    <tr>\n",
       "      <th>0</th>\n",
       "      <td>12</td>\n",
       "      <td>12</td>\n",
       "    </tr>\n",
       "    <tr>\n",
       "      <th>1</th>\n",
       "      <td>2</td>\n",
       "      <td>2</td>\n",
       "    </tr>\n",
       "    <tr>\n",
       "      <th>2</th>\n",
       "      <td>9</td>\n",
       "      <td>9</td>\n",
       "    </tr>\n",
       "    <tr>\n",
       "      <th>3</th>\n",
       "      <td>14</td>\n",
       "      <td>14</td>\n",
       "    </tr>\n",
       "    <tr>\n",
       "      <th>4</th>\n",
       "      <td>13</td>\n",
       "      <td>13</td>\n",
       "    </tr>\n",
       "    <tr>\n",
       "      <th>...</th>\n",
       "      <td>...</td>\n",
       "      <td>...</td>\n",
       "    </tr>\n",
       "    <tr>\n",
       "      <th>91756</th>\n",
       "      <td>2</td>\n",
       "      <td>5</td>\n",
       "    </tr>\n",
       "    <tr>\n",
       "      <th>91757</th>\n",
       "      <td>2</td>\n",
       "      <td>2</td>\n",
       "    </tr>\n",
       "    <tr>\n",
       "      <th>91758</th>\n",
       "      <td>14</td>\n",
       "      <td>14</td>\n",
       "    </tr>\n",
       "    <tr>\n",
       "      <th>91759</th>\n",
       "      <td>9</td>\n",
       "      <td>9</td>\n",
       "    </tr>\n",
       "    <tr>\n",
       "      <th>91760</th>\n",
       "      <td>5</td>\n",
       "      <td>5</td>\n",
       "    </tr>\n",
       "  </tbody>\n",
       "</table>\n",
       "<p>91761 rows × 2 columns</p>\n",
       "</div>"
      ],
      "text/plain": [
       "        y  pred\n",
       "0      12    12\n",
       "1       2     2\n",
       "2       9     9\n",
       "3      14    14\n",
       "4      13    13\n",
       "...    ..   ...\n",
       "91756   2     5\n",
       "91757   2     2\n",
       "91758  14    14\n",
       "91759   9     9\n",
       "91760   5     5\n",
       "\n",
       "[91761 rows x 2 columns]"
      ]
     },
     "execution_count": 28,
     "metadata": {},
     "output_type": "execute_result"
    }
   ],
   "source": [
    "result"
   ]
  },
  {
   "cell_type": "code",
   "execution_count": 29,
   "id": "f46f820f",
   "metadata": {},
   "outputs": [],
   "source": [
    "from sklearn.metrics import accuracy_score"
   ]
  },
  {
   "cell_type": "code",
   "execution_count": 30,
   "id": "7417b8a2",
   "metadata": {},
   "outputs": [
    {
     "data": {
      "text/plain": [
       "0.8897352905918636"
      ]
     },
     "execution_count": 30,
     "metadata": {},
     "output_type": "execute_result"
    }
   ],
   "source": [
    "accuracy = accuracy_score(original, y_pred)\n",
    "accuracy"
   ]
  },
  {
   "cell_type": "code",
   "execution_count": null,
   "id": "8b11f9d2",
   "metadata": {},
   "outputs": [],
   "source": []
  }
 ],
 "metadata": {
  "kernelspec": {
   "display_name": "Python 3",
   "language": "python",
   "name": "python3"
  },
  "language_info": {
   "codemirror_mode": {
    "name": "ipython",
    "version": 3
   },
   "file_extension": ".py",
   "mimetype": "text/x-python",
   "name": "python",
   "nbconvert_exporter": "python",
   "pygments_lexer": "ipython3",
   "version": "3.11.5"
  }
 },
 "nbformat": 4,
 "nbformat_minor": 5
}
