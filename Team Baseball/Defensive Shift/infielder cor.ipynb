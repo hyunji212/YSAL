{
  "cells": [
    {
      "cell_type": "code",
      "execution_count": null,
      "metadata": {
        "colab": {
          "base_uri": "https://localhost:8080/"
        },
        "id": "mwLTSmLVT-H0",
        "outputId": "7d0bfa77-a704-45b7-da3d-b312ddc06fbd"
      },
      "outputs": [
        {
          "name": "stdout",
          "output_type": "stream",
          "text": [
            "Drive already mounted at /content/drive; to attempt to forcibly remount, call drive.mount(\"/content/drive\", force_remount=True).\n"
          ]
        }
      ],
      "source": [
        "from google.colab import drive\n",
        "drive.mount('/content/drive')"
      ]
    },
    {
      "cell_type": "code",
      "execution_count": null,
      "metadata": {
        "id": "cy79ZXHXUDqI"
      },
      "outputs": [],
      "source": [
        "path = '/content/drive/MyDrive/ysal 2nd/'"
      ]
    },
    {
      "cell_type": "code",
      "execution_count": null,
      "metadata": {
        "id": "iv1_bOhfUDr1"
      },
      "outputs": [],
      "source": [
        "%pip install ultralytics"
      ]
    },
    {
      "cell_type": "code",
      "execution_count": null,
      "metadata": {
        "id": "FcoB6ourUDtE"
      },
      "outputs": [],
      "source": [
        "import numpy as np\n",
        "import cv2\n",
        "from google.colab.patches import cv2_imshow\n",
        "from ultralytics import YOLO\n",
        "import math\n",
        "import os"
      ]
    },
    {
      "cell_type": "code",
      "execution_count": null,
      "metadata": {
        "colab": {
          "background_save": true
        },
        "id": "BOQdI6bUUDup"
      },
      "outputs": [],
      "source": [
        "model = YOLO('yolov8n.pt')"
      ]
    },
    {
      "cell_type": "code",
      "execution_count": null,
      "metadata": {
        "id": "jBGuopRmGini"
      },
      "outputs": [],
      "source": [
        "os.chdir(path+\"image/\")"
      ]
    },
    {
      "cell_type": "code",
      "execution_count": null,
      "metadata": {
        "id": "GXdBMSdPG0wf"
      },
      "outputs": [],
      "source": [
        "baseline = cv2.imread(path + 'image/baseball.jpg')"
      ]
    },
    {
      "cell_type": "code",
      "execution_count": null,
      "metadata": {
        "id": "utcERGgDsGPy"
      },
      "outputs": [],
      "source": [
        "base_circle = np.array([\n",
        "        [715,630],\n",
        "        [715,1040],\n",
        "        [510, 835], # Lower left\n",
        "        [920, 835], # Lower right\n",
        "        ],np.float32)"
      ]
    },
    {
      "cell_type": "code",
      "execution_count": null,
      "metadata": {
        "id": "_CCNAXQPHBHG"
      },
      "outputs": [],
      "source": [
        "base_cpy = baseline.copy()"
      ]
    },
    {
      "cell_type": "code",
      "execution_count": null,
      "metadata": {
        "id": "HWEG2EkrsmCw"
      },
      "outputs": [],
      "source": [
        "for i in base_circle:\n",
        "  x, y = i\n",
        "  x = int(round(x))\n",
        "  y = int(round(y))\n",
        "  base_cpy = cv2.circle(base_cpy, (x,y), radius=10, color=(0, 0, 255), thickness=-1)\n",
        "\n",
        "cv2_imshow(base_cpy)"
      ]
    },
    {
      "cell_type": "code",
      "execution_count": null,
      "metadata": {
        "id": "qTerOO3RU9je"
      },
      "outputs": [],
      "source": [
        "def detect_white(img):\n",
        "    white_range = ([0, 200, 0], [255, 255, 255])\n",
        "    lower = np.array(white_range[0], dtype = \"uint8\")\n",
        "    upper = np.array(white_range[1], dtype = \"uint8\")\n",
        "    cvt = cv2.cvtColor(img, cv2.COLOR_BGR2RGB)\n",
        "    mask = cv2.inRange(cvt, lowerb = lower, upperb = upper)\n",
        "    result = cv2.bitwise_and(cvt, cvt, mask = mask)\n",
        "    #cv2_imshow(result)\n",
        "    portion = len(result[result!=0])/ (result.shape[0]*result.shape[1])\n",
        "    return portion\n",
        "\n",
        "def detect_non_white(img):\n",
        "    non_white_range = ([0,0,0],[230, 230, 230])\n",
        "    lower = np.array(non_white_range[0], dtype = \"uint8\")\n",
        "    upper = np.array(non_white_range[1], dtype = \"uint8\")\n",
        "    cvt = cv2.cvtColor(img, cv2.COLOR_BGR2RGB)\n",
        "    mask = cv2.inRange(cvt, lowerb = lower, upperb = upper)\n",
        "    result = cv2.bitwise_and(cvt, cvt, mask = mask)\n",
        "    #cv2_imshow(result)\n",
        "    portion = len(result[result!=0])/ (result.shape[0]*result.shape[1])\n",
        "    return portion\n",
        "\n",
        "def check_bbox_overlap(bbox1, bbox2):\n",
        "    x1_min, y1_min, x1_max, y1_max = bbox1\n",
        "    x2_min, y2_min, x2_max, y2_max = bbox2\n",
        "\n",
        "    # 바운딩 박스가 겹치는지 확인\n",
        "    overlap = not (x1_max < x2_min or x1_min > x2_max or y1_max < y2_min or y1_min > y2_max)\n",
        "\n",
        "    # bbox1이 bbox2에 포함되는지 확인\n",
        "    contained = x1_min >= x2_min and y1_min >= y2_min and x1_max <= x2_max and y1_max <= y2_max\n",
        "\n",
        "    return overlap, contained"
      ]
    },
    {
      "cell_type": "code",
      "execution_count": null,
      "metadata": {
        "id": "VhxZ9FLIW0W1"
      },
      "outputs": [],
      "source": [
        "def check_overlap(lst, check_lst) :\n",
        "\n",
        "  overlap_tf = False\n",
        "\n",
        "  if len(lst) != 0:\n",
        "    for i in range(len(lst)) :\n",
        "\n",
        "      overlap , contain = check_bbox_overlap(lst[i],check_lst)\n",
        "\n",
        "      if ((overlap == True) or (contain ==True)) :\n",
        "        overlap_tf = overlap\n",
        "\n",
        "  return overlap_tf"
      ]
    },
    {
      "cell_type": "code",
      "execution_count": null,
      "metadata": {
        "id": "LzkygqjkUDv5"
      },
      "outputs": [],
      "source": [
        "def detect_player(img) :\n",
        "\n",
        "  white_pants = []\n",
        "  white_player = []\n",
        "  non_white_player = []\n",
        "\n",
        "  results = model(img, conf=0.05)  # results list\n",
        "\n",
        "  for result in results:\n",
        "\n",
        "    boxes = result.boxes.cpu().numpy()\n",
        "    for i, box in enumerate(boxes):\n",
        "\n",
        "        if (box.cls[0] != 0 ) :\n",
        "          continue\n",
        "\n",
        "        r = box.xyxy[0].astype(int)\n",
        "\n",
        "        crop = img[r[1]:r[3], r[0]:r[2]]\n",
        "        top = img[r[1]: r[1] + int((r[3]-r[1])/3*1) ,r[0]:r[2]]\n",
        "        bottom = img[r[1] + int((r[3]-r[1])/2) : r[3] , r[0] : r[2]]\n",
        "\n",
        "        bottom_white = detect_white(bottom)\n",
        "\n",
        "\n",
        "        if (bottom_white > 0.1) :\n",
        "\n",
        "          tf = check_overlap(white_pants,r)\n",
        "\n",
        "          if (tf == False) :\n",
        "            white_pants.append(r)\n",
        "\n",
        "            top_white = detect_white(top)\n",
        "\n",
        "            if (top_white > 0.15) :\n",
        "              white_player.append(r)\n",
        "              #print(\"white\")\n",
        "              #cv2_imshow(crop)\n",
        "\n",
        "            else :\n",
        "              non_white_player.append(r)\n",
        "              #print(\"non_white\")\n",
        "              #cv2_imshow(crop)\n",
        "\n",
        "  # print(\"white\")\n",
        "  # print(white_player)\n",
        "\n",
        "  # print(\"non_white\")\n",
        "  # print(non_white_player)\n",
        "\n",
        "  return white_pants, white_player, non_white_player"
      ]
    },
    {
      "cell_type": "code",
      "execution_count": null,
      "metadata": {
        "id": "XolBNzbNUD2E"
      },
      "outputs": [],
      "source": [
        "def check_pitcher(lst, midwidth, midheight) :\n",
        "\n",
        "  center = [(item[0] + (item[2] - item[0])/2,item[3]) for item in lst]\n",
        "\n",
        "  min_distance = float('inf')\n",
        "  index = -1\n",
        "  closest_coordinate = None\n",
        "\n",
        "  for i,coordinate in enumerate(center):\n",
        "    distance = math.sqrt((coordinate[0] - midwidth) ** 2 + (coordinate[1] - midheight) ** 2)\n",
        "    if distance < 100:\n",
        "      if distance < min_distance:\n",
        "        index = i\n",
        "        min_distance = distance\n",
        "        closest_coordinate = coordinate\n",
        "\n",
        "  return index, closest_coordinate"
      ]
    },
    {
      "cell_type": "code",
      "execution_count": null,
      "metadata": {
        "id": "lGMaXz0t8UBX"
      },
      "outputs": [],
      "source": [
        "def check_in_list(check_list, check_value):\n",
        "    for item in check_list:\n",
        "        if np.array_equal(item, check_value):\n",
        "            return True\n",
        "    return False\n",
        "\n",
        "def defensor(index, white_pants, white_player, non_white_player, img) :\n",
        "\n",
        "  defense_list = []\n",
        "  pitcher_coor = white_pants[index]\n",
        "\n",
        "  if check_in_list(white_player, pitcher_coor) :\n",
        "    defense_list = white_player\n",
        "    defense_list = [sublist for sublist in defense_list if not np.array_equal(sublist, pitcher_coor)]\n",
        "\n",
        "\n",
        "  else :\n",
        "    defense_list = non_white_player\n",
        "    defense_list = [sublist for sublist in defense_list if not np.array_equal(sublist, pitcher_coor)]\n",
        "\n",
        "  #for i in range(len(defense_list)) :\n",
        "  #  cv2.rectangle(img, (defense_list[i][0], defense_list[i][1]), (defense_list[i][2], defense_list[i][3]), (0, 0 , 255), 2)  # 두께는 2로 가정\n",
        "\n",
        "  #cv2_imshow(img)\n",
        "\n",
        "  return defense_list"
      ]
    },
    {
      "cell_type": "code",
      "execution_count": null,
      "metadata": {
        "id": "TXlvu0eoY6Qs"
      },
      "outputs": [],
      "source": [
        "def find_white_lines(img, extension_length):\n",
        "  gray = cv2.cvtColor(img, cv2.COLOR_BGR2GRAY)\n",
        "\n",
        "  # 가우시안 블러를 적용합니다.\n",
        "  blurred = cv2.GaussianBlur(gray, (5, 5), 0)\n",
        "\n",
        "  # Canny 엣지 검출을 수행합니다.\n",
        "  edges = cv2.Canny(blurred, 50, 150)\n",
        "\n",
        "  # Hough 선 변환을 적용합니다.\n",
        "  lines = cv2.HoughLinesP(edges, 1, np.pi/180, threshold=100)\n",
        "  extended_lines = []\n",
        "\n",
        "  for line in lines:\n",
        "      x1, y1, x2, y2 = line[0]\n",
        "      length = np.sqrt((x2 - x1)**2 + (y2 - y1)**2)\n",
        "      thickness = 1  # Set the thickness for thin lines\n",
        "      if length > 10 :  # Additional conditions for length and line color\n",
        "          angle = np.arctan2(y2 - y1, x2 - x1) * 180 / np.pi\n",
        "\n",
        "          if (15<abs(angle)<30) :\n",
        "\n",
        "            extended_x1 = int(x1 - extension_length * np.cos(np.radians(angle)))\n",
        "            extended_y1 = int(y1 - extension_length * np.sin(np.radians(angle)))\n",
        "            extended_x2 = int(x2 + extension_length * np.cos(np.radians(angle)))\n",
        "            extended_y2 = int(y2 + extension_length * np.sin(np.radians(angle)))\n",
        "            #cv2.line(img, (x1, y1), (x2, y2), (0, 0, 255), thickness)\n",
        "            cv2.line(img, (extended_x1, extended_y1), (extended_x2, extended_y2), (0, 255, 0), thickness)\n",
        "            extended_lines.append( [extended_x1, extended_y1, extended_x2, extended_y2])\n",
        "\n",
        "            #print(f\"Angle: {angle} degrees\")\n",
        "\n",
        "  #cv2_imshow(img)\n",
        "\n",
        "  return lines, extended_lines"
      ]
    },
    {
      "cell_type": "code",
      "execution_count": null,
      "metadata": {
        "id": "uWuS6gPpY6Tc"
      },
      "outputs": [],
      "source": [
        "def remove_similar_lines(lines, img, threshold=0.1):\n",
        "    result = []\n",
        "    threshold_slope = threshold  # 기울기의 차이가 이 값 이하면 유사한 라인으로 간주\n",
        "\n",
        "    def slope(line):\n",
        "        x1, y1, x2, y2 = line\n",
        "        if x2 - x1 == 0:\n",
        "            return float('inf')  # 수직 라인의 경우 무한대의 기울기를 갖음\n",
        "        else:\n",
        "            return (y2 - y1) / (x2 - x1)\n",
        "\n",
        "    for i, line1 in enumerate(lines):\n",
        "        is_similar = False\n",
        "        for j, line2 in enumerate(result):\n",
        "            # 기울기의 차이가 일정 값 이하인 경우 유사한 라인으로 간주\n",
        "            if abs(slope(line1) - slope(line2)) < threshold_slope:\n",
        "                is_similar = True\n",
        "                break\n",
        "        if not is_similar:\n",
        "            result.append(line1)\n",
        "\n",
        "    return result"
      ]
    },
    {
      "cell_type": "code",
      "execution_count": null,
      "metadata": {
        "id": "WsBrVkHNY-s3"
      },
      "outputs": [],
      "source": [
        "def find_intersections(lines):\n",
        "    intersections = []\n",
        "    for i in range(len(lines)):\n",
        "        for j in range(i + 1, len(lines)):\n",
        "            line1 = lines[i]\n",
        "            line2 = lines[j]\n",
        "            x1, y1, x2, y2 = line1\n",
        "            x3, y3, x4, y4 = line2\n",
        "\n",
        "            # 계산을 편하게 하기 위해 각 선분을 직선의 방정식으로 나타냅니다.\n",
        "            a1 = y2 - y1\n",
        "            b1 = x1 - x2\n",
        "            c1 = x2 * y1 - x1 * y2\n",
        "\n",
        "            a2 = y4 - y3\n",
        "            b2 = x3 - x4\n",
        "            c2 = x4 * y3 - x3 * y4\n",
        "\n",
        "            # 두 직선의 교점을 계산합니다.\n",
        "            determinant = a1 * b2 - a2 * b1\n",
        "            if determinant != 0:  # 직선이 평행하지 않을 경우에만 계산\n",
        "                intersection_x = (b1 * c2 - b2 * c1) / determinant\n",
        "                intersection_y = (a2 * c1 - a1 * c2) / determinant\n",
        "\n",
        "                # 찾은 교점을 리스트에 추가합니다.\n",
        "                intersections.append((int(intersection_x), int(intersection_y)))\n",
        "\n",
        "    return intersections"
      ]
    },
    {
      "cell_type": "code",
      "execution_count": null,
      "metadata": {
        "id": "4Rn_Yx18NzLm"
      },
      "outputs": [],
      "source": [
        "def find_3_base(intersections, pitcher_cor,img):\n",
        "  base_home = tuple((0,10000))\n",
        "  base_1st = tuple((10000,0))\n",
        "  base_3rd = tuple((-1000,0))\n",
        "\n",
        "  for i in range(len(intersections)) :\n",
        "\n",
        "    if ((pitcher_cor[1] - 20) <  intersections[i][1]  < (pitcher_cor[1] + 20)) :\n",
        "\n",
        "      if (((intersections[i][0] - pitcher_cor[0]) < 0 ) and ( -int(img.shape[1] * 0.25) > (intersections[i][0] - pitcher_cor[0]) > (base_3rd[0] -  pitcher_cor[0]))):\n",
        "        base_3rd = intersections[i]\n",
        "\n",
        "      elif (((intersections[i][0] - pitcher_cor[0]) > 0 ) and (int(img.shape[1] * 0.25) < (intersections[i][0] - pitcher_cor[0]) < (base_1st[0] -  pitcher_cor[0]))):\n",
        "        base_1st = intersections[i]\n",
        "\n",
        "    elif ((pitcher_cor[0] - 20) <  intersections[i][0]  < (pitcher_cor[0] + 20)) :\n",
        "        if (((intersections[i][1] - pitcher_cor[1]) > 0 )  and (int(img.shape[1] * 0.1) < (intersections[i][1] - pitcher_cor[1]) < (base_home[1]- pitcher_cor[1]))):\n",
        "          base_home = intersections[i]\n",
        "\n",
        "  return base_home, base_1st, base_3rd"
      ]
    },
    {
      "cell_type": "code",
      "execution_count": null,
      "metadata": {
        "id": "n8eZM6EnpWij"
      },
      "outputs": [],
      "source": [
        "def real_defense_coordinate(random_coordinate):\n",
        "  x, y = random_coordinate[0], random_coordinate[1]\n",
        "  scale = 19.395 / 205\n",
        "  real_coordinate = [(x - 715) * scale, (1040 - y) * scale]\n",
        "  if (real_coordinate[1] <= abs(real_coordinate[0]))  or (real_coordinate[1] > 70):\n",
        "    return False , [0,0]\n",
        "\n",
        "  else:\n",
        "    pass\n",
        "\n",
        "  return True , real_coordinate"
      ]
    },
    {
      "cell_type": "code",
      "execution_count": null,
      "metadata": {
        "id": "d0SRLgAyALNS"
      },
      "outputs": [],
      "source": [
        "def main(img, extension_length, baseline, base_circle) :\n",
        "\n",
        "  midwidth, midheight = int(img.shape[1]/2) , int(img.shape[0]/2)\n",
        "  white_pants , white_player, non_white_player = detect_player(img)\n",
        "  index, pitcher_cor = check_pitcher(white_pants, midwidth, midheight)\n",
        "\n",
        "  if pitcher_cor is None :\n",
        "    print(\"Yolo가 사람 인식을 제대로 수행하지 못했습니다.\")\n",
        "    return  False, None, None\n",
        "\n",
        "  else :\n",
        "\n",
        "    defense_list = defensor(index, white_pants, white_player, non_white_player, img)\n",
        "    print(defense_list)\n",
        "    if len(defense_list) < 4 :\n",
        "      print(\"Yolo가 사람 인식을 제대로 수행하지 못했습니다.\")\n",
        "      return  False, None, None\n",
        "\n",
        "\n",
        "  lines, extended_lines = find_white_lines(img,extension_length)\n",
        "  unique_lines = remove_similar_lines(extended_lines, img, 0.1)\n",
        "  unique_lines.append([0,int(pitcher_cor[1]), int(img.shape[1]), int(pitcher_cor[1])])\n",
        "  unique_lines.append([int(pitcher_cor[0]), 0 , int(pitcher_cor[0]),  int(cnt.shape[0])])\n",
        "\n",
        "\n",
        "  for i in range(len(unique_lines)) :\n",
        "    cv2.line(cnt, (unique_lines[i][0], unique_lines[i][1]), (unique_lines[i][2], unique_lines[i][3]), (255, 255, 0), 3)\n",
        "\n",
        "  for i in range(len(defense_list)) :\n",
        "   cv2.rectangle(img, (defense_list[i][0], defense_list[i][1]), (defense_list[i][2], defense_list[i][3]), (0, 0 , 255), 2)  # 두께는 2로 가정\n",
        "\n",
        "  #cv2_imshow(img)\n",
        "\n",
        "\n",
        "  intersections = find_intersections(unique_lines)\n",
        "  base_home, base_1, base_3 = find_3_base(intersections, pitcher_cor,img)\n",
        "  base_2 = tuple((pitcher_cor[0] , int(base_home[1] - (base_home[1] - pitcher_cor[1])*1.55 )))\n",
        "  base_coor = [base_2,base_home,base_3,base_1]\n",
        "\n",
        "  for i in range(len(base_coor)) :\n",
        "    cv2.circle(img, (int(base_coor[i][0]),int(base_coor[i][1])), radius=10, color=(255, 0, 0), thickness=3)\n",
        "\n",
        "  cv2_imshow(img)\n",
        "\n",
        "  base_coor = np.array(base_coor, dtype=np.float32)\n",
        "  transformation_matrix = cv2.getPerspectiveTransform(base_coor, base_circle)\n",
        "\n",
        "  print(\"transformation_matrix : \" , transformation_matrix)\n",
        "  result = cv2.warpPerspective(img, transformation_matrix,(baseline.shape[1], baseline.shape[0]))\n",
        "\n",
        "  cv2_imshow(result)\n",
        "\n",
        "  defensor_feet = []\n",
        "  for i in range(len(defense_list)) :\n",
        "    defensor_feet.append([defense_list[i][0] + (defense_list[i][2] - defense_list[i][0])/2,defense_list[i][3]])\n",
        "\n",
        "  defensor_feet = np.array(defensor_feet)\n",
        "  transformed_point = cv2.perspectiveTransform(defensor_feet.reshape(1, -1, 2), transformation_matrix)\n",
        "  transformed_defensor_coor = transformed_point[0]\n",
        "\n",
        "  real_coor = []\n",
        "  for i in range(len(transformed_defensor_coor)) :\n",
        "    bool_, cor = real_defense_coordinate(transformed_defensor_coor[i])\n",
        "    if bool_ == True :\n",
        "      real_coor.append(cor)\n",
        "\n",
        "  return True, result, real_coor"
      ]
    },
    {
      "cell_type": "code",
      "execution_count": null,
      "metadata": {
        "id": "xILuaH2RpWof"
      },
      "outputs": [],
      "source": []
    },
    {
      "cell_type": "code",
      "execution_count": null,
      "metadata": {
        "id": "W9t-IH37QvfX"
      },
      "outputs": [],
      "source": []
    },
    {
      "cell_type": "code",
      "execution_count": null,
      "metadata": {
        "id": "W-lrhlDIQvgp"
      },
      "outputs": [],
      "source": []
    },
    {
      "cell_type": "code",
      "execution_count": null,
      "metadata": {
        "id": "cFMIb9M5Qvh1"
      },
      "outputs": [],
      "source": []
    },
    {
      "cell_type": "code",
      "execution_count": null,
      "metadata": {
        "id": "_f_vlPf_QvjI"
      },
      "outputs": [],
      "source": []
    },
    {
      "cell_type": "code",
      "execution_count": null,
      "metadata": {
        "id": "S4V0szHKQvkU"
      },
      "outputs": [],
      "source": []
    },
    {
      "cell_type": "code",
      "execution_count": null,
      "metadata": {
        "id": "GypUmAz5Qvmd"
      },
      "outputs": [],
      "source": []
    },
    {
      "cell_type": "code",
      "execution_count": null,
      "metadata": {
        "id": "QaBqRSj5Qvnn"
      },
      "outputs": [],
      "source": []
    },
    {
      "cell_type": "code",
      "execution_count": null,
      "metadata": {
        "id": "5oT1ZwUzQvso"
      },
      "outputs": [],
      "source": [
        "cor_dict = {}"
      ]
    },
    {
      "cell_type": "code",
      "execution_count": null,
      "metadata": {
        "colab": {
          "base_uri": "https://localhost:8080/",
          "height": 1000
        },
        "id": "C7WGI_2VpWrU",
        "outputId": "68275465-449e-467f-dc7f-7093ae09c30c"
      },
      "outputs": [],
      "source": [
        "png_files = [image for image in os.listdir() if image.endswith('.png')]\n",
        "\n",
        "for i, png_file in enumerate(png_files) :\n",
        "\n",
        "  cnt = cv2.imread(path + f'image/{png_file}')\n",
        "  bool_ , result, real_coor = main(cnt, 450,baseline,base_circle)\n",
        "  if (bool_ == True) :\n",
        "    if (len(real_coor) == 4):\n",
        "      cor_dict[png_file] = real_coor\n"
      ]
    },
    {
      "cell_type": "code",
      "execution_count": null,
      "metadata": {
        "colab": {
          "base_uri": "https://localhost:8080/"
        },
        "id": "XvDNMK-Tj0vp",
        "outputId": "7f4a7b0a-8b61-493d-ead5-cec700c72a8c"
      },
      "outputs": [
        {
          "data": {
            "text/plain": [
              "{'2_0.png': [[-18.961331664668464, 28.428030206581628],\n",
              "  [13.155353368300101, 47.03089229733295],\n",
              "  [21.559438055172862, 29.220173057478156],\n",
              "  [-9.89258942794539, 46.13444769939124]],\n",
              " '5_1.png': [[-15.378908193679173, 38.94547851192908],\n",
              "  [-20.96632739293075, 26.79751009091108],\n",
              "  [-1.72467893278933, 44.06141307732499],\n",
              "  [19.209598001745363, 28.97060264011808]],\n",
              " '6_0.png': [[23.6750032783945, 27.06516619131224],\n",
              "  [-11.835100439821876, 46.594789061890566],\n",
              "  [12.027530599994659, 51.03455985317512],\n",
              "  [-21.887832206097297, 27.211322809575922]],\n",
              " '10_0.png': [[-12.18582137198373, 48.563091156600066],\n",
              "  [-21.85685341906878, 27.38329127414061],\n",
              "  [4.998419063453805, 47.092406661444926],\n",
              "  [18.64235505225307, 26.530605628113605]],\n",
              " '9_1.png': [[19.355052769273378, 19.998156051106136],\n",
              "  [18.332421021454657, 43.458682816713264],\n",
              "  [7.2108455031121155, 51.28726292843148],\n",
              "  [-12.75998319500008, 28.796057321281076]],\n",
              " '12_0.png': [[17.69416262488611, 19.670291564819713],\n",
              "  [-7.693585184681228, 43.34777000892856],\n",
              "  [14.379433145596677, 42.74381833033879],\n",
              "  [-17.02418425281105, 22.35001038122105]],\n",
              " '17_0.png': [[-17.98429369699505, 23.729810993416265],\n",
              "  [-12.7968235886358, 44.7542314952464],\n",
              "  [15.219275555171446, 23.63188393032482],\n",
              "  [9.744441202143102, 44.747274877846806]]}"
            ]
          },
          "execution_count": 51,
          "metadata": {},
          "output_type": "execute_result"
        }
      ],
      "source": [
        "cor_dict"
      ]
    },
    {
      "cell_type": "code",
      "execution_count": null,
      "metadata": {
        "id": "XY4Dnn4jmeSD"
      },
      "outputs": [],
      "source": [
        "sorted_cor = {key: sorted(value, key=lambda x: x[0]) for key, value in cor_dict.items()}"
      ]
    },
    {
      "cell_type": "code",
      "execution_count": null,
      "metadata": {
        "id": "lToOspm5oYld"
      },
      "outputs": [],
      "source": [
        "#coordinate_ = {}"
      ]
    },
    {
      "cell_type": "code",
      "execution_count": null,
      "metadata": {
        "id": "EQFLbwfWoKuk"
      },
      "outputs": [],
      "source": [
        "#for key,item in sorted_cor.items() :\n",
        "#  newlist = [item[0], item[1], item[3], item[2]]\n",
        "#  coordinate_[key] = newlist"
      ]
    },
    {
      "cell_type": "code",
      "execution_count": null,
      "metadata": {
        "id": "XE53lYJomeVr"
      },
      "outputs": [],
      "source": [
        "#coordinate_"
      ]
    },
    {
      "cell_type": "code",
      "execution_count": null,
      "metadata": {
        "id": "zjGJ-rWoMJtA"
      },
      "outputs": [],
      "source": []
    },
    {
      "cell_type": "code",
      "execution_count": null,
      "metadata": {
        "id": "43SLMlgxMJvZ"
      },
      "outputs": [],
      "source": [
        "import json\n",
        "\n",
        "with open(path + 'data.json', 'w') as json_file:\n",
        "\n",
        "    json.dump(sorted_cor, json_file)"
      ]
    },
    {
      "cell_type": "code",
      "execution_count": null,
      "metadata": {
        "id": "S-1pxJugtad5"
      },
      "outputs": [],
      "source": []
    },
    {
      "cell_type": "code",
      "execution_count": null,
      "metadata": {
        "id": "DqKG5IxoZYDK"
      },
      "outputs": [],
      "source": []
    },
    {
      "cell_type": "code",
      "execution_count": null,
      "metadata": {
        "id": "Zv7RDbbSY59z"
      },
      "outputs": [],
      "source": []
    },
    {
      "cell_type": "code",
      "execution_count": null,
      "metadata": {
        "id": "W5vsllawUELk"
      },
      "outputs": [],
      "source": []
    },
    {
      "cell_type": "code",
      "execution_count": null,
      "metadata": {
        "id": "wqJ13wwZUENJ"
      },
      "outputs": [],
      "source": []
    },
    {
      "cell_type": "code",
      "execution_count": null,
      "metadata": {
        "id": "mPRSTACoUERS"
      },
      "outputs": [],
      "source": []
    }
  ],
  "metadata": {
    "colab": {
      "provenance": []
    },
    "kernelspec": {
      "display_name": "Python 3",
      "name": "python3"
    },
    "language_info": {
      "name": "python"
    }
  },
  "nbformat": 4,
  "nbformat_minor": 0
}